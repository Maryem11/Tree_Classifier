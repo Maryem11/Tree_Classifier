{
 "cells": [
  {
   "cell_type": "markdown",
   "metadata": {
    "id": "gjyu_A4tK6Gj"
   },
   "source": [
    "# Crops Ideal Location for Planting"
   ]
  },
  {
   "cell_type": "markdown",
   "metadata": {
    "id": "UrtEw8aWK-qR"
   },
   "source": [
    "In the rapidly evolving field of precision agriculture, where informed decision-making is key, I am excited to present a remarkable dataset that empowers farmers with the ability to construct predictive models. The dataset is designed to assist users in recommending the optimal crops to cultivate on a specific farm, leveraging a comprehensive range of parameters. With this invaluable resource at your disposal, you can make data-driven choices and optimize your farming strategies. Explore the possibilities and unlock the potential of precision agriculture with this dataset.\n"
   ]
  },
  {
   "cell_type": "markdown",
   "metadata": {
    "id": "bMnSVhE-c5ZY"
   },
   "source": [
    "Libraries"
   ]
  },
  {
   "cell_type": "code",
   "execution_count": 1,
   "metadata": {
    "colab": {
     "base_uri": "https://localhost:8080/"
    },
    "id": "yBmsqVZYVmbj",
    "outputId": "ec1caf09-d2e8-42e3-dec9-7f121fee0103"
   },
   "outputs": [
    {
     "name": "stdout",
     "output_type": "stream",
     "text": [
      "Mounted at /content/drive\n"
     ]
    }
   ],
   "source": [
    "import numpy as np\n",
    "import pandas as pd\n",
    "\n",
    "from google.colab import drive\n",
    "drive.mount('/content/drive')"
   ]
  },
  {
   "cell_type": "markdown",
   "metadata": {
    "id": "gCYbKpardCaP"
   },
   "source": [
    "Read and view Dataset"
   ]
  },
  {
   "cell_type": "code",
   "execution_count": 24,
   "metadata": {
    "colab": {
     "base_uri": "https://localhost:8080/",
     "height": 424
    },
    "id": "B0NYNLjnWTKI",
    "outputId": "348f960e-40a1-4086-86e2-c51686c54390"
   },
   "outputs": [
    {
     "data": {
      "application/vnd.google.colaboratory.intrinsic+json": {
       "summary": "{\n  \"name\": \"df2\",\n  \"rows\": 1697,\n  \"fields\": [\n    {\n      \"column\": \"N\",\n      \"properties\": {\n        \"dtype\": \"number\",\n        \"std\": 38,\n        \"min\": 0,\n        \"max\": 140,\n        \"num_unique_values\": 136,\n        \"samples\": [\n          30,\n          36,\n          46\n        ],\n        \"semantic_type\": \"\",\n        \"description\": \"\"\n      }\n    },\n    {\n      \"column\": \"P\",\n      \"properties\": {\n        \"dtype\": \"number\",\n        \"std\": 34,\n        \"min\": 5,\n        \"max\": 145,\n        \"num_unique_values\": 117,\n        \"samples\": [\n          69,\n          37,\n          86\n        ],\n        \"semantic_type\": \"\",\n        \"description\": \"\"\n      }\n    },\n    {\n      \"column\": \"K\",\n      \"properties\": {\n        \"dtype\": \"number\",\n        \"std\": 57,\n        \"min\": 5,\n        \"max\": 205,\n        \"num_unique_values\": 73,\n        \"samples\": [\n          42,\n          12,\n          15\n        ],\n        \"semantic_type\": \"\",\n        \"description\": \"\"\n      }\n    },\n    {\n      \"column\": \"temperature\",\n      \"properties\": {\n        \"dtype\": \"number\",\n        \"std\": 4.9104280738355754,\n        \"min\": 8.825674745,\n        \"max\": 41.94865736,\n        \"num_unique_values\": 1594,\n        \"samples\": [\n          17.5862944,\n          21.07273439,\n          17.68408797\n        ],\n        \"semantic_type\": \"\",\n        \"description\": \"\"\n      }\n    },\n    {\n      \"column\": \"humidity\",\n      \"properties\": {\n        \"dtype\": \"number\",\n        \"std\": 24.432640451726535,\n        \"min\": 14.25803981,\n        \"max\": 94.96419851,\n        \"num_unique_values\": 1575,\n        \"samples\": [\n          91.74780462,\n          48.5622488,\n          93.45067555\n        ],\n        \"semantic_type\": \"\",\n        \"description\": \"\"\n      }\n    },\n    {\n      \"column\": \"ph\",\n      \"properties\": {\n        \"dtype\": \"number\",\n        \"std\": 0.8704111541132394,\n        \"min\": 3.504752314,\n        \"max\": 9.93509073,\n        \"num_unique_values\": 1564,\n        \"samples\": [\n          5.818219385,\n          7.728998197,\n          7.235070264\n        ],\n        \"semantic_type\": \"\",\n        \"description\": \"\"\n      }\n    },\n    {\n      \"column\": \"rainfall\",\n      \"properties\": {\n        \"dtype\": \"number\",\n        \"std\": 50.436396459834974,\n        \"min\": 5.31450727,\n        \"max\": 298.5601175,\n        \"num_unique_values\": 1588,\n        \"samples\": [\n          40.228644,\n          149.299952,\n          181.4170812\n        ],\n        \"semantic_type\": \"\",\n        \"description\": \"\"\n      }\n    },\n    {\n      \"column\": \"label\",\n      \"properties\": {\n        \"dtype\": \"category\",\n        \"num_unique_values\": 15,\n        \"samples\": [\n          \"grapes\",\n          \"apple\",\n          \"rice\"\n        ],\n        \"semantic_type\": \"\",\n        \"description\": \"\"\n      }\n    }\n  ]\n}",
       "type": "dataframe",
       "variable_name": "df2"
      },
      "text/html": [
       "\n",
       "  <div id=\"df-47c1649e-9a46-4920-9049-2daa866edeaa\" class=\"colab-df-container\">\n",
       "    <div>\n",
       "<style scoped>\n",
       "    .dataframe tbody tr th:only-of-type {\n",
       "        vertical-align: middle;\n",
       "    }\n",
       "\n",
       "    .dataframe tbody tr th {\n",
       "        vertical-align: top;\n",
       "    }\n",
       "\n",
       "    .dataframe thead th {\n",
       "        text-align: right;\n",
       "    }\n",
       "</style>\n",
       "<table border=\"1\" class=\"dataframe\">\n",
       "  <thead>\n",
       "    <tr style=\"text-align: right;\">\n",
       "      <th></th>\n",
       "      <th>N</th>\n",
       "      <th>P</th>\n",
       "      <th>K</th>\n",
       "      <th>temperature</th>\n",
       "      <th>humidity</th>\n",
       "      <th>ph</th>\n",
       "      <th>rainfall</th>\n",
       "      <th>label</th>\n",
       "    </tr>\n",
       "  </thead>\n",
       "  <tbody>\n",
       "    <tr>\n",
       "      <th>0</th>\n",
       "      <td>90</td>\n",
       "      <td>42</td>\n",
       "      <td>43</td>\n",
       "      <td>20.879744</td>\n",
       "      <td>82.002744</td>\n",
       "      <td>6.502985</td>\n",
       "      <td>202.935536</td>\n",
       "      <td>rice</td>\n",
       "    </tr>\n",
       "    <tr>\n",
       "      <th>1</th>\n",
       "      <td>85</td>\n",
       "      <td>58</td>\n",
       "      <td>41</td>\n",
       "      <td>21.770462</td>\n",
       "      <td>80.319644</td>\n",
       "      <td>7.038096</td>\n",
       "      <td>226.655537</td>\n",
       "      <td>rice</td>\n",
       "    </tr>\n",
       "    <tr>\n",
       "      <th>2</th>\n",
       "      <td>60</td>\n",
       "      <td>55</td>\n",
       "      <td>44</td>\n",
       "      <td>23.004459</td>\n",
       "      <td>82.320763</td>\n",
       "      <td>7.840207</td>\n",
       "      <td>263.964248</td>\n",
       "      <td>rice</td>\n",
       "    </tr>\n",
       "    <tr>\n",
       "      <th>3</th>\n",
       "      <td>74</td>\n",
       "      <td>35</td>\n",
       "      <td>40</td>\n",
       "      <td>26.491096</td>\n",
       "      <td>80.158363</td>\n",
       "      <td>6.980401</td>\n",
       "      <td>242.864034</td>\n",
       "      <td>rice</td>\n",
       "    </tr>\n",
       "    <tr>\n",
       "      <th>4</th>\n",
       "      <td>78</td>\n",
       "      <td>42</td>\n",
       "      <td>42</td>\n",
       "      <td>20.130175</td>\n",
       "      <td>81.604873</td>\n",
       "      <td>7.628473</td>\n",
       "      <td>262.717340</td>\n",
       "      <td>rice</td>\n",
       "    </tr>\n",
       "    <tr>\n",
       "      <th>...</th>\n",
       "      <td>...</td>\n",
       "      <td>...</td>\n",
       "      <td>...</td>\n",
       "      <td>...</td>\n",
       "      <td>...</td>\n",
       "      <td>...</td>\n",
       "      <td>...</td>\n",
       "      <td>...</td>\n",
       "    </tr>\n",
       "    <tr>\n",
       "      <th>1692</th>\n",
       "      <td>117</td>\n",
       "      <td>86</td>\n",
       "      <td>48</td>\n",
       "      <td>28.695620</td>\n",
       "      <td>82.541958</td>\n",
       "      <td>6.225225</td>\n",
       "      <td>116.161684</td>\n",
       "      <td>banana</td>\n",
       "    </tr>\n",
       "    <tr>\n",
       "      <th>1693</th>\n",
       "      <td>114</td>\n",
       "      <td>94</td>\n",
       "      <td>53</td>\n",
       "      <td>26.335449</td>\n",
       "      <td>76.853201</td>\n",
       "      <td>6.190757</td>\n",
       "      <td>118.685826</td>\n",
       "      <td>banana</td>\n",
       "    </tr>\n",
       "    <tr>\n",
       "      <th>1694</th>\n",
       "      <td>110</td>\n",
       "      <td>78</td>\n",
       "      <td>50</td>\n",
       "      <td>25.937302</td>\n",
       "      <td>78.898644</td>\n",
       "      <td>5.915569</td>\n",
       "      <td>98.217475</td>\n",
       "      <td>banana</td>\n",
       "    </tr>\n",
       "    <tr>\n",
       "      <th>1695</th>\n",
       "      <td>94</td>\n",
       "      <td>70</td>\n",
       "      <td>48</td>\n",
       "      <td>25.136865</td>\n",
       "      <td>84.883944</td>\n",
       "      <td>6.195152</td>\n",
       "      <td>91.464425</td>\n",
       "      <td>banana</td>\n",
       "    </tr>\n",
       "    <tr>\n",
       "      <th>1696</th>\n",
       "      <td>80</td>\n",
       "      <td>71</td>\n",
       "      <td>47</td>\n",
       "      <td>27.505277</td>\n",
       "      <td>80.797840</td>\n",
       "      <td>6.156373</td>\n",
       "      <td>105.077699</td>\n",
       "      <td>banana</td>\n",
       "    </tr>\n",
       "  </tbody>\n",
       "</table>\n",
       "<p>1697 rows × 8 columns</p>\n",
       "</div>\n",
       "    <div class=\"colab-df-buttons\">\n",
       "\n",
       "  <div class=\"colab-df-container\">\n",
       "    <button class=\"colab-df-convert\" onclick=\"convertToInteractive('df-47c1649e-9a46-4920-9049-2daa866edeaa')\"\n",
       "            title=\"Convert this dataframe to an interactive table.\"\n",
       "            style=\"display:none;\">\n",
       "\n",
       "  <svg xmlns=\"http://www.w3.org/2000/svg\" height=\"24px\" viewBox=\"0 -960 960 960\">\n",
       "    <path d=\"M120-120v-720h720v720H120Zm60-500h600v-160H180v160Zm220 220h160v-160H400v160Zm0 220h160v-160H400v160ZM180-400h160v-160H180v160Zm440 0h160v-160H620v160ZM180-180h160v-160H180v160Zm440 0h160v-160H620v160Z\"/>\n",
       "  </svg>\n",
       "    </button>\n",
       "\n",
       "  <style>\n",
       "    .colab-df-container {\n",
       "      display:flex;\n",
       "      gap: 12px;\n",
       "    }\n",
       "\n",
       "    .colab-df-convert {\n",
       "      background-color: #E8F0FE;\n",
       "      border: none;\n",
       "      border-radius: 50%;\n",
       "      cursor: pointer;\n",
       "      display: none;\n",
       "      fill: #1967D2;\n",
       "      height: 32px;\n",
       "      padding: 0 0 0 0;\n",
       "      width: 32px;\n",
       "    }\n",
       "\n",
       "    .colab-df-convert:hover {\n",
       "      background-color: #E2EBFA;\n",
       "      box-shadow: 0px 1px 2px rgba(60, 64, 67, 0.3), 0px 1px 3px 1px rgba(60, 64, 67, 0.15);\n",
       "      fill: #174EA6;\n",
       "    }\n",
       "\n",
       "    .colab-df-buttons div {\n",
       "      margin-bottom: 4px;\n",
       "    }\n",
       "\n",
       "    [theme=dark] .colab-df-convert {\n",
       "      background-color: #3B4455;\n",
       "      fill: #D2E3FC;\n",
       "    }\n",
       "\n",
       "    [theme=dark] .colab-df-convert:hover {\n",
       "      background-color: #434B5C;\n",
       "      box-shadow: 0px 1px 3px 1px rgba(0, 0, 0, 0.15);\n",
       "      filter: drop-shadow(0px 1px 2px rgba(0, 0, 0, 0.3));\n",
       "      fill: #FFFFFF;\n",
       "    }\n",
       "  </style>\n",
       "\n",
       "    <script>\n",
       "      const buttonEl =\n",
       "        document.querySelector('#df-47c1649e-9a46-4920-9049-2daa866edeaa button.colab-df-convert');\n",
       "      buttonEl.style.display =\n",
       "        google.colab.kernel.accessAllowed ? 'block' : 'none';\n",
       "\n",
       "      async function convertToInteractive(key) {\n",
       "        const element = document.querySelector('#df-47c1649e-9a46-4920-9049-2daa866edeaa');\n",
       "        const dataTable =\n",
       "          await google.colab.kernel.invokeFunction('convertToInteractive',\n",
       "                                                    [key], {});\n",
       "        if (!dataTable) return;\n",
       "\n",
       "        const docLinkHtml = 'Like what you see? Visit the ' +\n",
       "          '<a target=\"_blank\" href=https://colab.research.google.com/notebooks/data_table.ipynb>data table notebook</a>'\n",
       "          + ' to learn more about interactive tables.';\n",
       "        element.innerHTML = '';\n",
       "        dataTable['output_type'] = 'display_data';\n",
       "        await google.colab.output.renderOutput(dataTable, element);\n",
       "        const docLink = document.createElement('div');\n",
       "        docLink.innerHTML = docLinkHtml;\n",
       "        element.appendChild(docLink);\n",
       "      }\n",
       "    </script>\n",
       "  </div>\n",
       "\n",
       "\n",
       "<div id=\"df-f64d8fc2-fdba-4dab-bbea-fcfacfedbcea\">\n",
       "  <button class=\"colab-df-quickchart\" onclick=\"quickchart('df-f64d8fc2-fdba-4dab-bbea-fcfacfedbcea')\"\n",
       "            title=\"Suggest charts\"\n",
       "            style=\"display:none;\">\n",
       "\n",
       "<svg xmlns=\"http://www.w3.org/2000/svg\" height=\"24px\"viewBox=\"0 0 24 24\"\n",
       "     width=\"24px\">\n",
       "    <g>\n",
       "        <path d=\"M19 3H5c-1.1 0-2 .9-2 2v14c0 1.1.9 2 2 2h14c1.1 0 2-.9 2-2V5c0-1.1-.9-2-2-2zM9 17H7v-7h2v7zm4 0h-2V7h2v10zm4 0h-2v-4h2v4z\"/>\n",
       "    </g>\n",
       "</svg>\n",
       "  </button>\n",
       "\n",
       "<style>\n",
       "  .colab-df-quickchart {\n",
       "      --bg-color: #E8F0FE;\n",
       "      --fill-color: #1967D2;\n",
       "      --hover-bg-color: #E2EBFA;\n",
       "      --hover-fill-color: #174EA6;\n",
       "      --disabled-fill-color: #AAA;\n",
       "      --disabled-bg-color: #DDD;\n",
       "  }\n",
       "\n",
       "  [theme=dark] .colab-df-quickchart {\n",
       "      --bg-color: #3B4455;\n",
       "      --fill-color: #D2E3FC;\n",
       "      --hover-bg-color: #434B5C;\n",
       "      --hover-fill-color: #FFFFFF;\n",
       "      --disabled-bg-color: #3B4455;\n",
       "      --disabled-fill-color: #666;\n",
       "  }\n",
       "\n",
       "  .colab-df-quickchart {\n",
       "    background-color: var(--bg-color);\n",
       "    border: none;\n",
       "    border-radius: 50%;\n",
       "    cursor: pointer;\n",
       "    display: none;\n",
       "    fill: var(--fill-color);\n",
       "    height: 32px;\n",
       "    padding: 0;\n",
       "    width: 32px;\n",
       "  }\n",
       "\n",
       "  .colab-df-quickchart:hover {\n",
       "    background-color: var(--hover-bg-color);\n",
       "    box-shadow: 0 1px 2px rgba(60, 64, 67, 0.3), 0 1px 3px 1px rgba(60, 64, 67, 0.15);\n",
       "    fill: var(--button-hover-fill-color);\n",
       "  }\n",
       "\n",
       "  .colab-df-quickchart-complete:disabled,\n",
       "  .colab-df-quickchart-complete:disabled:hover {\n",
       "    background-color: var(--disabled-bg-color);\n",
       "    fill: var(--disabled-fill-color);\n",
       "    box-shadow: none;\n",
       "  }\n",
       "\n",
       "  .colab-df-spinner {\n",
       "    border: 2px solid var(--fill-color);\n",
       "    border-color: transparent;\n",
       "    border-bottom-color: var(--fill-color);\n",
       "    animation:\n",
       "      spin 1s steps(1) infinite;\n",
       "  }\n",
       "\n",
       "  @keyframes spin {\n",
       "    0% {\n",
       "      border-color: transparent;\n",
       "      border-bottom-color: var(--fill-color);\n",
       "      border-left-color: var(--fill-color);\n",
       "    }\n",
       "    20% {\n",
       "      border-color: transparent;\n",
       "      border-left-color: var(--fill-color);\n",
       "      border-top-color: var(--fill-color);\n",
       "    }\n",
       "    30% {\n",
       "      border-color: transparent;\n",
       "      border-left-color: var(--fill-color);\n",
       "      border-top-color: var(--fill-color);\n",
       "      border-right-color: var(--fill-color);\n",
       "    }\n",
       "    40% {\n",
       "      border-color: transparent;\n",
       "      border-right-color: var(--fill-color);\n",
       "      border-top-color: var(--fill-color);\n",
       "    }\n",
       "    60% {\n",
       "      border-color: transparent;\n",
       "      border-right-color: var(--fill-color);\n",
       "    }\n",
       "    80% {\n",
       "      border-color: transparent;\n",
       "      border-right-color: var(--fill-color);\n",
       "      border-bottom-color: var(--fill-color);\n",
       "    }\n",
       "    90% {\n",
       "      border-color: transparent;\n",
       "      border-bottom-color: var(--fill-color);\n",
       "    }\n",
       "  }\n",
       "</style>\n",
       "\n",
       "  <script>\n",
       "    async function quickchart(key) {\n",
       "      const quickchartButtonEl =\n",
       "        document.querySelector('#' + key + ' button');\n",
       "      quickchartButtonEl.disabled = true;  // To prevent multiple clicks.\n",
       "      quickchartButtonEl.classList.add('colab-df-spinner');\n",
       "      try {\n",
       "        const charts = await google.colab.kernel.invokeFunction(\n",
       "            'suggestCharts', [key], {});\n",
       "      } catch (error) {\n",
       "        console.error('Error during call to suggestCharts:', error);\n",
       "      }\n",
       "      quickchartButtonEl.classList.remove('colab-df-spinner');\n",
       "      quickchartButtonEl.classList.add('colab-df-quickchart-complete');\n",
       "    }\n",
       "    (() => {\n",
       "      let quickchartButtonEl =\n",
       "        document.querySelector('#df-f64d8fc2-fdba-4dab-bbea-fcfacfedbcea button');\n",
       "      quickchartButtonEl.style.display =\n",
       "        google.colab.kernel.accessAllowed ? 'block' : 'none';\n",
       "    })();\n",
       "  </script>\n",
       "</div>\n",
       "\n",
       "  <div id=\"id_5911f2c5-5a42-470b-88db-c47881ccefe3\">\n",
       "    <style>\n",
       "      .colab-df-generate {\n",
       "        background-color: #E8F0FE;\n",
       "        border: none;\n",
       "        border-radius: 50%;\n",
       "        cursor: pointer;\n",
       "        display: none;\n",
       "        fill: #1967D2;\n",
       "        height: 32px;\n",
       "        padding: 0 0 0 0;\n",
       "        width: 32px;\n",
       "      }\n",
       "\n",
       "      .colab-df-generate:hover {\n",
       "        background-color: #E2EBFA;\n",
       "        box-shadow: 0px 1px 2px rgba(60, 64, 67, 0.3), 0px 1px 3px 1px rgba(60, 64, 67, 0.15);\n",
       "        fill: #174EA6;\n",
       "      }\n",
       "\n",
       "      [theme=dark] .colab-df-generate {\n",
       "        background-color: #3B4455;\n",
       "        fill: #D2E3FC;\n",
       "      }\n",
       "\n",
       "      [theme=dark] .colab-df-generate:hover {\n",
       "        background-color: #434B5C;\n",
       "        box-shadow: 0px 1px 3px 1px rgba(0, 0, 0, 0.15);\n",
       "        filter: drop-shadow(0px 1px 2px rgba(0, 0, 0, 0.3));\n",
       "        fill: #FFFFFF;\n",
       "      }\n",
       "    </style>\n",
       "    <button class=\"colab-df-generate\" onclick=\"generateWithVariable('df2')\"\n",
       "            title=\"Generate code using this dataframe.\"\n",
       "            style=\"display:none;\">\n",
       "\n",
       "  <svg xmlns=\"http://www.w3.org/2000/svg\" height=\"24px\"viewBox=\"0 0 24 24\"\n",
       "       width=\"24px\">\n",
       "    <path d=\"M7,19H8.4L18.45,9,17,7.55,7,17.6ZM5,21V16.75L18.45,3.32a2,2,0,0,1,2.83,0l1.4,1.43a1.91,1.91,0,0,1,.58,1.4,1.91,1.91,0,0,1-.58,1.4L9.25,21ZM18.45,9,17,7.55Zm-12,3A5.31,5.31,0,0,0,4.9,8.1,5.31,5.31,0,0,0,1,6.5,5.31,5.31,0,0,0,4.9,4.9,5.31,5.31,0,0,0,6.5,1,5.31,5.31,0,0,0,8.1,4.9,5.31,5.31,0,0,0,12,6.5,5.46,5.46,0,0,0,6.5,12Z\"/>\n",
       "  </svg>\n",
       "    </button>\n",
       "    <script>\n",
       "      (() => {\n",
       "      const buttonEl =\n",
       "        document.querySelector('#id_5911f2c5-5a42-470b-88db-c47881ccefe3 button.colab-df-generate');\n",
       "      buttonEl.style.display =\n",
       "        google.colab.kernel.accessAllowed ? 'block' : 'none';\n",
       "\n",
       "      buttonEl.onclick = () => {\n",
       "        google.colab.notebook.generateWithVariable('df2');\n",
       "      }\n",
       "      })();\n",
       "    </script>\n",
       "  </div>\n",
       "\n",
       "    </div>\n",
       "  </div>\n"
      ],
      "text/plain": [
       "        N   P   K  temperature   humidity        ph    rainfall   label\n",
       "0      90  42  43    20.879744  82.002744  6.502985  202.935536    rice\n",
       "1      85  58  41    21.770462  80.319644  7.038096  226.655537    rice\n",
       "2      60  55  44    23.004459  82.320763  7.840207  263.964248    rice\n",
       "3      74  35  40    26.491096  80.158363  6.980401  242.864034    rice\n",
       "4      78  42  42    20.130175  81.604873  7.628473  262.717340    rice\n",
       "...   ...  ..  ..          ...        ...       ...         ...     ...\n",
       "1692  117  86  48    28.695620  82.541958  6.225225  116.161684  banana\n",
       "1693  114  94  53    26.335449  76.853201  6.190757  118.685826  banana\n",
       "1694  110  78  50    25.937302  78.898644  5.915569   98.217475  banana\n",
       "1695   94  70  48    25.136865  84.883944  6.195152   91.464425  banana\n",
       "1696   80  71  47    27.505277  80.797840  6.156373  105.077699  banana\n",
       "\n",
       "[1697 rows x 8 columns]"
      ]
     },
     "execution_count": 24,
     "metadata": {},
     "output_type": "execute_result"
    }
   ],
   "source": [
    "# Read the dataset\n",
    "\n",
    "df2=pd.read_csv(\"/content/drive/MyDrive/Portfolio/00_Crops/dataset_crops.csv\")\n",
    "\n",
    "# View the dataset\n",
    "df2"
   ]
  },
  {
   "cell_type": "markdown",
   "metadata": {
    "id": "lj0lgd_P0DUO"
   },
   "source": [
    "It is important to familiarize with the dataset knowing the meanig of each column.\n",
    "For instance N = Nitrogen, P = Phosphorus, K = Potassium ( “Big 3” primary nutrients in commercial fertilizers)\n",
    "The other columns correspond to temperature, humidy, ph, rainfall and label.\n",
    "later on will be possible to know the different crops in the column \"label\""
   ]
  },
  {
   "cell_type": "markdown",
   "metadata": {
    "id": "LzZ9eIf4dZq4"
   },
   "source": [
    "# 1. Let's familiarize with the dataset - Gaining information from data"
   ]
  },
  {
   "cell_type": "markdown",
   "metadata": {
    "id": "gHQFHsLbdOlc"
   },
   "source": [
    "### Count of unique values -> df['column_name'].value_counts()\n",
    "\n",
    "df['column_name'].value_counts() is a method call that is used to obtain the count of unique values in a specific column of a DataFrame."
   ]
  },
  {
   "cell_type": "code",
   "execution_count": 3,
   "metadata": {
    "colab": {
     "base_uri": "https://localhost:8080/"
    },
    "id": "2ghjU4DndcC3",
    "outputId": "0fe48a66-8cf9-4bb0-e8d7-c4809d94b809"
   },
   "outputs": [
    {
     "name": "stdout",
     "output_type": "stream",
     "text": [
      "15\n"
     ]
    }
   ],
   "source": [
    "# Count unique values in Column \"Label\"\n",
    "print(len(df['label'].value_counts()))\n"
   ]
  },
  {
   "cell_type": "markdown",
   "metadata": {
    "id": "4Jicay060bT7"
   },
   "source": [
    "There are 15 different crops in this dataset. However,  it is possible to find misspeling in some words, which could add another crop. That is the reason why it is important to check each label."
   ]
  },
  {
   "cell_type": "code",
   "execution_count": 4,
   "metadata": {
    "colab": {
     "base_uri": "https://localhost:8080/"
    },
    "id": "R2J5_4IDfx-L",
    "outputId": "0d2ecfe8-7bac-4974-ec1d-178bf477695b"
   },
   "outputs": [
    {
     "data": {
      "text/plain": [
       "rice          139\n",
       "Soyabeans     130\n",
       "banana        130\n",
       "beans         125\n",
       "cowpeas       122\n",
       "orange        122\n",
       "maize         119\n",
       "coffee        110\n",
       "peas          100\n",
       "groundnuts    100\n",
       "mango         100\n",
       "grapes        100\n",
       "watermelon    100\n",
       "apple         100\n",
       "cotton        100\n",
       "Name: label, dtype: int64"
      ]
     },
     "execution_count": 4,
     "metadata": {},
     "output_type": "execute_result"
    }
   ],
   "source": [
    "# Count and group by unique values in Column \"Label\"\n",
    "\n",
    "df['label'].value_counts()\n"
   ]
  },
  {
   "cell_type": "markdown",
   "metadata": {
    "id": "WsPy2sxS0rtn"
   },
   "source": [
    "After reading the different values in Label there are 15 different crops and no misspeling."
   ]
  },
  {
   "cell_type": "markdown",
   "metadata": {
    "id": "ik0uNFINYhhS"
   },
   "source": [
    "### Data set dimenssions -> df.shape\n",
    "df.shape is an attribute that is used to determine the dimensions or shape of a DataFrame object. It returns a tuple that has two elements representing the number of rows and columns in the DataFrame. The tuple has :\n",
    "\n",
    "(num_rows, num_columns)"
   ]
  },
  {
   "cell_type": "code",
   "execution_count": 5,
   "metadata": {
    "colab": {
     "base_uri": "https://localhost:8080/"
    },
    "id": "uKIX5yxbXxhX",
    "outputId": "46f5991e-f4a0-4664-a9b7-721017d399e0"
   },
   "outputs": [
    {
     "data": {
      "text/plain": [
       "(1697, 8)"
      ]
     },
     "execution_count": 5,
     "metadata": {},
     "output_type": "execute_result"
    }
   ],
   "source": [
    "# Data set dimenssions\n",
    "df.shape\n",
    "\n",
    "# the dataset has 1,697 rows and 8 columns"
   ]
  },
  {
   "cell_type": "markdown",
   "metadata": {
    "id": "X92RPzehZSy3"
   },
   "source": [
    "### Dataset summary -> df.info()\n",
    "\n",
    "df.info() is a method used to display a concise summary of a DataFrame. It provides information about the DataFrame's structure, including the column names, data types, and the number of non-null values."
   ]
  },
  {
   "cell_type": "code",
   "execution_count": 19,
   "metadata": {
    "colab": {
     "base_uri": "https://localhost:8080/"
    },
    "id": "yRbszyrPaAzf",
    "outputId": "4b26259c-5b1f-4298-9ff4-65178cc093a6"
   },
   "outputs": [
    {
     "name": "stdout",
     "output_type": "stream",
     "text": [
      "<class 'pandas.core.frame.DataFrame'>\n",
      "RangeIndex: 1697 entries, 0 to 1696\n",
      "Data columns (total 8 columns):\n",
      " #   Column       Non-Null Count  Dtype  \n",
      "---  ------       --------------  -----  \n",
      " 0   N            1697 non-null   int64  \n",
      " 1   P            1697 non-null   int64  \n",
      " 2   K            1697 non-null   int64  \n",
      " 3   temperature  1697 non-null   float64\n",
      " 4   humidity     1697 non-null   float64\n",
      " 5   ph           1697 non-null   float64\n",
      " 6   rainfall     1697 non-null   float64\n",
      " 7   label        1697 non-null   object \n",
      "dtypes: float64(4), int64(3), object(1)\n",
      "memory usage: 106.2+ KB\n"
     ]
    }
   ],
   "source": [
    "# Dataset summary\n",
    "\n",
    "df.info()"
   ]
  },
  {
   "cell_type": "markdown",
   "metadata": {
    "id": "yuzmg2ZJWHGQ"
   },
   "source": [
    "1 All columns do not have Null Entries\n",
    "\n",
    "2 Seven columns are numerical type\n",
    "\n",
    "3 Only a single column is categorical type"
   ]
  },
  {
   "cell_type": "markdown",
   "metadata": {
    "id": "nrgumy4uVWy1"
   },
   "source": [
    "### Statistical Insight"
   ]
  },
  {
   "cell_type": "code",
   "execution_count": 7,
   "metadata": {
    "colab": {
     "base_uri": "https://localhost:8080/",
     "height": 300
    },
    "id": "AKKZaSlfVYtG",
    "outputId": "c61e8edc-4a06-4bf0-8a08-b8a24e0d2eb1"
   },
   "outputs": [
    {
     "data": {
      "application/vnd.google.colaboratory.intrinsic+json": {
       "summary": "{\n  \"name\": \"df\",\n  \"rows\": 8,\n  \"fields\": [\n    {\n      \"column\": \"N\",\n      \"properties\": {\n        \"dtype\": \"number\",\n        \"std\": 582.4527341338654,\n        \"min\": 0.0,\n        \"max\": 1697.0,\n        \"num_unique_values\": 8,\n        \"samples\": [\n          52.647024160282854,\n          37.0,\n          1697.0\n        ],\n        \"semantic_type\": \"\",\n        \"description\": \"\"\n      }\n    },\n    {\n      \"column\": \"P\",\n      \"properties\": {\n        \"dtype\": \"number\",\n        \"std\": 580.9933800538668,\n        \"min\": 5.0,\n        \"max\": 1697.0,\n        \"num_unique_values\": 8,\n        \"samples\": [\n          58.12610489098409,\n          54.0,\n          1697.0\n        ],\n        \"semantic_type\": \"\",\n        \"description\": \"\"\n      }\n    },\n    {\n      \"column\": \"K\",\n      \"properties\": {\n        \"dtype\": \"number\",\n        \"std\": 582.229671258505,\n        \"min\": 5.0,\n        \"max\": 1697.0,\n        \"num_unique_values\": 8,\n        \"samples\": [\n          52.031231585150266,\n          27.0,\n          1697.0\n        ],\n        \"semantic_type\": \"\",\n        \"description\": \"\"\n      }\n    },\n    {\n      \"column\": \"temperature\",\n      \"properties\": {\n        \"dtype\": \"number\",\n        \"std\": 592.2730579470744,\n        \"min\": 4.9104280738355754,\n        \"max\": 1697.0,\n        \"num_unique_values\": 8,\n        \"samples\": [\n          24.711674475742484,\n          24.9103226,\n          1697.0\n        ],\n        \"semantic_type\": \"\",\n        \"description\": \"\"\n      }\n    },\n    {\n      \"column\": \"humidity\",\n      \"properties\": {\n        \"dtype\": \"number\",\n        \"std\": 579.8302403564516,\n        \"min\": 14.25803981,\n        \"max\": 1697.0,\n        \"num_unique_values\": 8,\n        \"samples\": [\n          65.84885564727166,\n          77.90621048,\n          1697.0\n        ],\n        \"semantic_type\": \"\",\n        \"description\": \"\"\n      }\n    },\n    {\n      \"column\": \"ph\",\n      \"properties\": {\n        \"dtype\": \"number\",\n        \"std\": 597.9707982824087,\n        \"min\": 0.8704111541132394,\n        \"max\": 1697.0,\n        \"num_unique_values\": 8,\n        \"samples\": [\n          6.438961774539187,\n          6.354006744,\n          1697.0\n        ],\n        \"semantic_type\": \"\",\n        \"description\": \"\"\n      }\n    },\n    {\n      \"column\": \"rainfall\",\n      \"properties\": {\n        \"dtype\": \"number\",\n        \"std\": 569.7315302018994,\n        \"min\": 5.31450727,\n        \"max\": 1697.0,\n        \"num_unique_values\": 8,\n        \"samples\": [\n          99.36493549430172,\n          93.12330644,\n          1697.0\n        ],\n        \"semantic_type\": \"\",\n        \"description\": \"\"\n      }\n    }\n  ]\n}",
       "type": "dataframe"
      },
      "text/html": [
       "\n",
       "  <div id=\"df-9de499eb-5e7a-4b13-913c-b91d9d76593b\" class=\"colab-df-container\">\n",
       "    <div>\n",
       "<style scoped>\n",
       "    .dataframe tbody tr th:only-of-type {\n",
       "        vertical-align: middle;\n",
       "    }\n",
       "\n",
       "    .dataframe tbody tr th {\n",
       "        vertical-align: top;\n",
       "    }\n",
       "\n",
       "    .dataframe thead th {\n",
       "        text-align: right;\n",
       "    }\n",
       "</style>\n",
       "<table border=\"1\" class=\"dataframe\">\n",
       "  <thead>\n",
       "    <tr style=\"text-align: right;\">\n",
       "      <th></th>\n",
       "      <th>N</th>\n",
       "      <th>P</th>\n",
       "      <th>K</th>\n",
       "      <th>temperature</th>\n",
       "      <th>humidity</th>\n",
       "      <th>ph</th>\n",
       "      <th>rainfall</th>\n",
       "    </tr>\n",
       "  </thead>\n",
       "  <tbody>\n",
       "    <tr>\n",
       "      <th>count</th>\n",
       "      <td>1697.000000</td>\n",
       "      <td>1697.000000</td>\n",
       "      <td>1697.000000</td>\n",
       "      <td>1697.000000</td>\n",
       "      <td>1697.000000</td>\n",
       "      <td>1697.000000</td>\n",
       "      <td>1697.000000</td>\n",
       "    </tr>\n",
       "    <tr>\n",
       "      <th>mean</th>\n",
       "      <td>52.647024</td>\n",
       "      <td>58.126105</td>\n",
       "      <td>52.031232</td>\n",
       "      <td>24.711674</td>\n",
       "      <td>65.848856</td>\n",
       "      <td>6.438962</td>\n",
       "      <td>99.364935</td>\n",
       "    </tr>\n",
       "    <tr>\n",
       "      <th>std</th>\n",
       "      <td>38.536964</td>\n",
       "      <td>34.164342</td>\n",
       "      <td>57.068796</td>\n",
       "      <td>4.910428</td>\n",
       "      <td>24.432640</td>\n",
       "      <td>0.870411</td>\n",
       "      <td>50.436396</td>\n",
       "    </tr>\n",
       "    <tr>\n",
       "      <th>min</th>\n",
       "      <td>0.000000</td>\n",
       "      <td>5.000000</td>\n",
       "      <td>5.000000</td>\n",
       "      <td>8.825675</td>\n",
       "      <td>14.258040</td>\n",
       "      <td>3.504752</td>\n",
       "      <td>5.314507</td>\n",
       "    </tr>\n",
       "    <tr>\n",
       "      <th>25%</th>\n",
       "      <td>21.000000</td>\n",
       "      <td>36.000000</td>\n",
       "      <td>19.000000</td>\n",
       "      <td>21.631491</td>\n",
       "      <td>51.278688</td>\n",
       "      <td>5.861399</td>\n",
       "      <td>66.838723</td>\n",
       "    </tr>\n",
       "    <tr>\n",
       "      <th>50%</th>\n",
       "      <td>37.000000</td>\n",
       "      <td>54.000000</td>\n",
       "      <td>27.000000</td>\n",
       "      <td>24.910323</td>\n",
       "      <td>77.906210</td>\n",
       "      <td>6.354007</td>\n",
       "      <td>93.123306</td>\n",
       "    </tr>\n",
       "    <tr>\n",
       "      <th>75%</th>\n",
       "      <td>90.000000</td>\n",
       "      <td>72.000000</td>\n",
       "      <td>52.000000</td>\n",
       "      <td>27.834871</td>\n",
       "      <td>83.856427</td>\n",
       "      <td>6.932537</td>\n",
       "      <td>115.356032</td>\n",
       "    </tr>\n",
       "    <tr>\n",
       "      <th>max</th>\n",
       "      <td>140.000000</td>\n",
       "      <td>145.000000</td>\n",
       "      <td>205.000000</td>\n",
       "      <td>41.948657</td>\n",
       "      <td>94.964199</td>\n",
       "      <td>9.935091</td>\n",
       "      <td>298.560117</td>\n",
       "    </tr>\n",
       "  </tbody>\n",
       "</table>\n",
       "</div>\n",
       "    <div class=\"colab-df-buttons\">\n",
       "\n",
       "  <div class=\"colab-df-container\">\n",
       "    <button class=\"colab-df-convert\" onclick=\"convertToInteractive('df-9de499eb-5e7a-4b13-913c-b91d9d76593b')\"\n",
       "            title=\"Convert this dataframe to an interactive table.\"\n",
       "            style=\"display:none;\">\n",
       "\n",
       "  <svg xmlns=\"http://www.w3.org/2000/svg\" height=\"24px\" viewBox=\"0 -960 960 960\">\n",
       "    <path d=\"M120-120v-720h720v720H120Zm60-500h600v-160H180v160Zm220 220h160v-160H400v160Zm0 220h160v-160H400v160ZM180-400h160v-160H180v160Zm440 0h160v-160H620v160ZM180-180h160v-160H180v160Zm440 0h160v-160H620v160Z\"/>\n",
       "  </svg>\n",
       "    </button>\n",
       "\n",
       "  <style>\n",
       "    .colab-df-container {\n",
       "      display:flex;\n",
       "      gap: 12px;\n",
       "    }\n",
       "\n",
       "    .colab-df-convert {\n",
       "      background-color: #E8F0FE;\n",
       "      border: none;\n",
       "      border-radius: 50%;\n",
       "      cursor: pointer;\n",
       "      display: none;\n",
       "      fill: #1967D2;\n",
       "      height: 32px;\n",
       "      padding: 0 0 0 0;\n",
       "      width: 32px;\n",
       "    }\n",
       "\n",
       "    .colab-df-convert:hover {\n",
       "      background-color: #E2EBFA;\n",
       "      box-shadow: 0px 1px 2px rgba(60, 64, 67, 0.3), 0px 1px 3px 1px rgba(60, 64, 67, 0.15);\n",
       "      fill: #174EA6;\n",
       "    }\n",
       "\n",
       "    .colab-df-buttons div {\n",
       "      margin-bottom: 4px;\n",
       "    }\n",
       "\n",
       "    [theme=dark] .colab-df-convert {\n",
       "      background-color: #3B4455;\n",
       "      fill: #D2E3FC;\n",
       "    }\n",
       "\n",
       "    [theme=dark] .colab-df-convert:hover {\n",
       "      background-color: #434B5C;\n",
       "      box-shadow: 0px 1px 3px 1px rgba(0, 0, 0, 0.15);\n",
       "      filter: drop-shadow(0px 1px 2px rgba(0, 0, 0, 0.3));\n",
       "      fill: #FFFFFF;\n",
       "    }\n",
       "  </style>\n",
       "\n",
       "    <script>\n",
       "      const buttonEl =\n",
       "        document.querySelector('#df-9de499eb-5e7a-4b13-913c-b91d9d76593b button.colab-df-convert');\n",
       "      buttonEl.style.display =\n",
       "        google.colab.kernel.accessAllowed ? 'block' : 'none';\n",
       "\n",
       "      async function convertToInteractive(key) {\n",
       "        const element = document.querySelector('#df-9de499eb-5e7a-4b13-913c-b91d9d76593b');\n",
       "        const dataTable =\n",
       "          await google.colab.kernel.invokeFunction('convertToInteractive',\n",
       "                                                    [key], {});\n",
       "        if (!dataTable) return;\n",
       "\n",
       "        const docLinkHtml = 'Like what you see? Visit the ' +\n",
       "          '<a target=\"_blank\" href=https://colab.research.google.com/notebooks/data_table.ipynb>data table notebook</a>'\n",
       "          + ' to learn more about interactive tables.';\n",
       "        element.innerHTML = '';\n",
       "        dataTable['output_type'] = 'display_data';\n",
       "        await google.colab.output.renderOutput(dataTable, element);\n",
       "        const docLink = document.createElement('div');\n",
       "        docLink.innerHTML = docLinkHtml;\n",
       "        element.appendChild(docLink);\n",
       "      }\n",
       "    </script>\n",
       "  </div>\n",
       "\n",
       "\n",
       "<div id=\"df-d4999838-923c-4d7f-8e05-6615a4e0afa2\">\n",
       "  <button class=\"colab-df-quickchart\" onclick=\"quickchart('df-d4999838-923c-4d7f-8e05-6615a4e0afa2')\"\n",
       "            title=\"Suggest charts\"\n",
       "            style=\"display:none;\">\n",
       "\n",
       "<svg xmlns=\"http://www.w3.org/2000/svg\" height=\"24px\"viewBox=\"0 0 24 24\"\n",
       "     width=\"24px\">\n",
       "    <g>\n",
       "        <path d=\"M19 3H5c-1.1 0-2 .9-2 2v14c0 1.1.9 2 2 2h14c1.1 0 2-.9 2-2V5c0-1.1-.9-2-2-2zM9 17H7v-7h2v7zm4 0h-2V7h2v10zm4 0h-2v-4h2v4z\"/>\n",
       "    </g>\n",
       "</svg>\n",
       "  </button>\n",
       "\n",
       "<style>\n",
       "  .colab-df-quickchart {\n",
       "      --bg-color: #E8F0FE;\n",
       "      --fill-color: #1967D2;\n",
       "      --hover-bg-color: #E2EBFA;\n",
       "      --hover-fill-color: #174EA6;\n",
       "      --disabled-fill-color: #AAA;\n",
       "      --disabled-bg-color: #DDD;\n",
       "  }\n",
       "\n",
       "  [theme=dark] .colab-df-quickchart {\n",
       "      --bg-color: #3B4455;\n",
       "      --fill-color: #D2E3FC;\n",
       "      --hover-bg-color: #434B5C;\n",
       "      --hover-fill-color: #FFFFFF;\n",
       "      --disabled-bg-color: #3B4455;\n",
       "      --disabled-fill-color: #666;\n",
       "  }\n",
       "\n",
       "  .colab-df-quickchart {\n",
       "    background-color: var(--bg-color);\n",
       "    border: none;\n",
       "    border-radius: 50%;\n",
       "    cursor: pointer;\n",
       "    display: none;\n",
       "    fill: var(--fill-color);\n",
       "    height: 32px;\n",
       "    padding: 0;\n",
       "    width: 32px;\n",
       "  }\n",
       "\n",
       "  .colab-df-quickchart:hover {\n",
       "    background-color: var(--hover-bg-color);\n",
       "    box-shadow: 0 1px 2px rgba(60, 64, 67, 0.3), 0 1px 3px 1px rgba(60, 64, 67, 0.15);\n",
       "    fill: var(--button-hover-fill-color);\n",
       "  }\n",
       "\n",
       "  .colab-df-quickchart-complete:disabled,\n",
       "  .colab-df-quickchart-complete:disabled:hover {\n",
       "    background-color: var(--disabled-bg-color);\n",
       "    fill: var(--disabled-fill-color);\n",
       "    box-shadow: none;\n",
       "  }\n",
       "\n",
       "  .colab-df-spinner {\n",
       "    border: 2px solid var(--fill-color);\n",
       "    border-color: transparent;\n",
       "    border-bottom-color: var(--fill-color);\n",
       "    animation:\n",
       "      spin 1s steps(1) infinite;\n",
       "  }\n",
       "\n",
       "  @keyframes spin {\n",
       "    0% {\n",
       "      border-color: transparent;\n",
       "      border-bottom-color: var(--fill-color);\n",
       "      border-left-color: var(--fill-color);\n",
       "    }\n",
       "    20% {\n",
       "      border-color: transparent;\n",
       "      border-left-color: var(--fill-color);\n",
       "      border-top-color: var(--fill-color);\n",
       "    }\n",
       "    30% {\n",
       "      border-color: transparent;\n",
       "      border-left-color: var(--fill-color);\n",
       "      border-top-color: var(--fill-color);\n",
       "      border-right-color: var(--fill-color);\n",
       "    }\n",
       "    40% {\n",
       "      border-color: transparent;\n",
       "      border-right-color: var(--fill-color);\n",
       "      border-top-color: var(--fill-color);\n",
       "    }\n",
       "    60% {\n",
       "      border-color: transparent;\n",
       "      border-right-color: var(--fill-color);\n",
       "    }\n",
       "    80% {\n",
       "      border-color: transparent;\n",
       "      border-right-color: var(--fill-color);\n",
       "      border-bottom-color: var(--fill-color);\n",
       "    }\n",
       "    90% {\n",
       "      border-color: transparent;\n",
       "      border-bottom-color: var(--fill-color);\n",
       "    }\n",
       "  }\n",
       "</style>\n",
       "\n",
       "  <script>\n",
       "    async function quickchart(key) {\n",
       "      const quickchartButtonEl =\n",
       "        document.querySelector('#' + key + ' button');\n",
       "      quickchartButtonEl.disabled = true;  // To prevent multiple clicks.\n",
       "      quickchartButtonEl.classList.add('colab-df-spinner');\n",
       "      try {\n",
       "        const charts = await google.colab.kernel.invokeFunction(\n",
       "            'suggestCharts', [key], {});\n",
       "      } catch (error) {\n",
       "        console.error('Error during call to suggestCharts:', error);\n",
       "      }\n",
       "      quickchartButtonEl.classList.remove('colab-df-spinner');\n",
       "      quickchartButtonEl.classList.add('colab-df-quickchart-complete');\n",
       "    }\n",
       "    (() => {\n",
       "      let quickchartButtonEl =\n",
       "        document.querySelector('#df-d4999838-923c-4d7f-8e05-6615a4e0afa2 button');\n",
       "      quickchartButtonEl.style.display =\n",
       "        google.colab.kernel.accessAllowed ? 'block' : 'none';\n",
       "    })();\n",
       "  </script>\n",
       "</div>\n",
       "\n",
       "    </div>\n",
       "  </div>\n"
      ],
      "text/plain": [
       "                 N            P            K  temperature     humidity  \\\n",
       "count  1697.000000  1697.000000  1697.000000  1697.000000  1697.000000   \n",
       "mean     52.647024    58.126105    52.031232    24.711674    65.848856   \n",
       "std      38.536964    34.164342    57.068796     4.910428    24.432640   \n",
       "min       0.000000     5.000000     5.000000     8.825675    14.258040   \n",
       "25%      21.000000    36.000000    19.000000    21.631491    51.278688   \n",
       "50%      37.000000    54.000000    27.000000    24.910323    77.906210   \n",
       "75%      90.000000    72.000000    52.000000    27.834871    83.856427   \n",
       "max     140.000000   145.000000   205.000000    41.948657    94.964199   \n",
       "\n",
       "                ph     rainfall  \n",
       "count  1697.000000  1697.000000  \n",
       "mean      6.438962    99.364935  \n",
       "std       0.870411    50.436396  \n",
       "min       3.504752     5.314507  \n",
       "25%       5.861399    66.838723  \n",
       "50%       6.354007    93.123306  \n",
       "75%       6.932537   115.356032  \n",
       "max       9.935091   298.560117  "
      ]
     },
     "execution_count": 7,
     "metadata": {},
     "output_type": "execute_result"
    }
   ],
   "source": [
    "df.describe()"
   ]
  },
  {
   "cell_type": "markdown",
   "metadata": {
    "id": "lFUHxNy8WT5G"
   },
   "source": [
    "Mean values,\n",
    "Standard Deviation ,\n",
    "Minimum Values,\n",
    "Maximum Values"
   ]
  },
  {
   "cell_type": "markdown",
   "metadata": {
    "id": "vPQhH57pWYSt"
   },
   "source": [
    "### Checking For Duplicate Entries"
   ]
  },
  {
   "cell_type": "markdown",
   "metadata": {
    "id": "VSUR9_llizTv"
   },
   "source": [
    "Find rows that are exactly the same across all columns and sort by the columns N and P"
   ]
  },
  {
   "cell_type": "code",
   "execution_count": 29,
   "metadata": {
    "colab": {
     "base_uri": "https://localhost:8080/",
     "height": 424
    },
    "id": "Eflc6CoVWaak",
    "outputId": "44a5c11b-2540-4fbc-fb96-9b0a6fa2cb18"
   },
   "outputs": [
    {
     "data": {
      "application/vnd.google.colaboratory.intrinsic+json": {
       "summary": "{\n  \"name\": \"df[df\",\n  \"rows\": 206,\n  \"fields\": [\n    {\n      \"column\": \"N\",\n      \"properties\": {\n        \"dtype\": \"number\",\n        \"std\": 40,\n        \"min\": 0,\n        \"max\": 120,\n        \"num_unique_values\": 60,\n        \"samples\": [\n          0,\n          5,\n          82\n        ],\n        \"semantic_type\": \"\",\n        \"description\": \"\"\n      }\n    },\n    {\n      \"column\": \"P\",\n      \"properties\": {\n        \"dtype\": \"number\",\n        \"std\": 26,\n        \"min\": 5,\n        \"max\": 95,\n        \"num_unique_values\": 60,\n        \"samples\": [\n          18,\n          39,\n          57\n        ],\n        \"semantic_type\": \"\",\n        \"description\": \"\"\n      }\n    },\n    {\n      \"column\": \"K\",\n      \"properties\": {\n        \"dtype\": \"number\",\n        \"std\": 15,\n        \"min\": 5,\n        \"max\": 55,\n        \"num_unique_values\": 35,\n        \"samples\": [\n          46,\n          17,\n          35\n        ],\n        \"semantic_type\": \"\",\n        \"description\": \"\"\n      }\n    },\n    {\n      \"column\": \"temperature\",\n      \"properties\": {\n        \"dtype\": \"number\",\n        \"std\": 4.182207770192986,\n        \"min\": 14.78003032,\n        \"max\": 34.51465139,\n        \"num_unique_values\": 103,\n        \"samples\": [\n          24.60297538,\n          30.55472573,\n          20.12574053\n        ],\n        \"semantic_type\": \"\",\n        \"description\": \"\"\n      }\n    },\n    {\n      \"column\": \"humidity\",\n      \"properties\": {\n        \"dtype\": \"number\",\n        \"std\": 27.62449775205312,\n        \"min\": 18.09224048,\n        \"max\": 94.45239715,\n        \"num_unique_values\": 103,\n        \"samples\": [\n          91.28408653,\n          90.90343769,\n          24.96969858\n        ],\n        \"semantic_type\": \"\",\n        \"description\": \"\"\n      }\n    },\n    {\n      \"column\": \"ph\",\n      \"properties\": {\n        \"dtype\": \"number\",\n        \"std\": 0.6265611169352593,\n        \"min\": 5.502999119,\n        \"max\": 7.813916603,\n        \"num_unique_values\": 103,\n        \"samples\": [\n          7.601189843,\n          7.189259647,\n          5.659254981\n        ],\n        \"semantic_type\": \"\",\n        \"description\": \"\"\n      }\n    },\n    {\n      \"column\": \"rainfall\",\n      \"properties\": {\n        \"dtype\": \"number\",\n        \"std\": 30.109439752790095,\n        \"min\": 37.2464655,\n        \"max\": 191.4508931,\n        \"num_unique_values\": 103,\n        \"samples\": [\n          111.2948115,\n          106.0711985,\n          100.0497183\n        ],\n        \"semantic_type\": \"\",\n        \"description\": \"\"\n      }\n    },\n    {\n      \"column\": \"label\",\n      \"properties\": {\n        \"dtype\": \"category\",\n        \"num_unique_values\": 5,\n        \"samples\": [\n          \"beans\",\n          \"coffee\",\n          \"cowpeas\"\n        ],\n        \"semantic_type\": \"\",\n        \"description\": \"\"\n      }\n    }\n  ]\n}",
       "type": "dataframe"
      },
      "text/html": [
       "\n",
       "  <div id=\"df-11de5b15-e8ba-4c2a-af11-3e6e5e77ab07\" class=\"colab-df-container\">\n",
       "    <div>\n",
       "<style scoped>\n",
       "    .dataframe tbody tr th:only-of-type {\n",
       "        vertical-align: middle;\n",
       "    }\n",
       "\n",
       "    .dataframe tbody tr th {\n",
       "        vertical-align: top;\n",
       "    }\n",
       "\n",
       "    .dataframe thead th {\n",
       "        text-align: right;\n",
       "    }\n",
       "</style>\n",
       "<table border=\"1\" class=\"dataframe\">\n",
       "  <thead>\n",
       "    <tr style=\"text-align: right;\">\n",
       "      <th></th>\n",
       "      <th>N</th>\n",
       "      <th>P</th>\n",
       "      <th>K</th>\n",
       "      <th>temperature</th>\n",
       "      <th>humidity</th>\n",
       "      <th>ph</th>\n",
       "      <th>rainfall</th>\n",
       "      <th>label</th>\n",
       "    </tr>\n",
       "  </thead>\n",
       "  <tbody>\n",
       "    <tr>\n",
       "      <th>1207</th>\n",
       "      <td>0</td>\n",
       "      <td>18</td>\n",
       "      <td>14</td>\n",
       "      <td>29.771494</td>\n",
       "      <td>92.007200</td>\n",
       "      <td>7.207991</td>\n",
       "      <td>114.416179</td>\n",
       "      <td>orange</td>\n",
       "    </tr>\n",
       "    <tr>\n",
       "      <th>1645</th>\n",
       "      <td>0</td>\n",
       "      <td>18</td>\n",
       "      <td>14</td>\n",
       "      <td>29.771494</td>\n",
       "      <td>92.007200</td>\n",
       "      <td>7.207991</td>\n",
       "      <td>114.416179</td>\n",
       "      <td>orange</td>\n",
       "    </tr>\n",
       "    <tr>\n",
       "      <th>1221</th>\n",
       "      <td>0</td>\n",
       "      <td>25</td>\n",
       "      <td>14</td>\n",
       "      <td>19.335168</td>\n",
       "      <td>91.979789</td>\n",
       "      <td>6.361671</td>\n",
       "      <td>116.450422</td>\n",
       "      <td>orange</td>\n",
       "    </tr>\n",
       "    <tr>\n",
       "      <th>1659</th>\n",
       "      <td>0</td>\n",
       "      <td>25</td>\n",
       "      <td>14</td>\n",
       "      <td>19.335168</td>\n",
       "      <td>91.979789</td>\n",
       "      <td>6.361671</td>\n",
       "      <td>116.450422</td>\n",
       "      <td>orange</td>\n",
       "    </tr>\n",
       "    <tr>\n",
       "      <th>346</th>\n",
       "      <td>0</td>\n",
       "      <td>65</td>\n",
       "      <td>15</td>\n",
       "      <td>23.461683</td>\n",
       "      <td>23.221976</td>\n",
       "      <td>5.645436</td>\n",
       "      <td>95.842534</td>\n",
       "      <td>beans</td>\n",
       "    </tr>\n",
       "    <tr>\n",
       "      <th>...</th>\n",
       "      <td>...</td>\n",
       "      <td>...</td>\n",
       "      <td>...</td>\n",
       "      <td>...</td>\n",
       "      <td>...</td>\n",
       "      <td>...</td>\n",
       "      <td>...</td>\n",
       "      <td>...</td>\n",
       "    </tr>\n",
       "    <tr>\n",
       "      <th>1606</th>\n",
       "      <td>118</td>\n",
       "      <td>21</td>\n",
       "      <td>34</td>\n",
       "      <td>24.385346</td>\n",
       "      <td>64.725431</td>\n",
       "      <td>7.234258</td>\n",
       "      <td>119.632411</td>\n",
       "      <td>coffee</td>\n",
       "    </tr>\n",
       "    <tr>\n",
       "      <th>710</th>\n",
       "      <td>118</td>\n",
       "      <td>88</td>\n",
       "      <td>52</td>\n",
       "      <td>28.650039</td>\n",
       "      <td>82.687525</td>\n",
       "      <td>5.843163</td>\n",
       "      <td>98.750844</td>\n",
       "      <td>banana</td>\n",
       "    </tr>\n",
       "    <tr>\n",
       "      <th>1683</th>\n",
       "      <td>118</td>\n",
       "      <td>88</td>\n",
       "      <td>52</td>\n",
       "      <td>28.650039</td>\n",
       "      <td>82.687525</td>\n",
       "      <td>5.843163</td>\n",
       "      <td>98.750844</td>\n",
       "      <td>banana</td>\n",
       "    </tr>\n",
       "    <tr>\n",
       "      <th>1437</th>\n",
       "      <td>120</td>\n",
       "      <td>40</td>\n",
       "      <td>33</td>\n",
       "      <td>24.238506</td>\n",
       "      <td>54.303296</td>\n",
       "      <td>6.734105</td>\n",
       "      <td>115.156401</td>\n",
       "      <td>coffee</td>\n",
       "    </tr>\n",
       "    <tr>\n",
       "      <th>1612</th>\n",
       "      <td>120</td>\n",
       "      <td>40</td>\n",
       "      <td>33</td>\n",
       "      <td>24.238506</td>\n",
       "      <td>54.303296</td>\n",
       "      <td>6.734105</td>\n",
       "      <td>115.156401</td>\n",
       "      <td>coffee</td>\n",
       "    </tr>\n",
       "  </tbody>\n",
       "</table>\n",
       "<p>206 rows × 8 columns</p>\n",
       "</div>\n",
       "    <div class=\"colab-df-buttons\">\n",
       "\n",
       "  <div class=\"colab-df-container\">\n",
       "    <button class=\"colab-df-convert\" onclick=\"convertToInteractive('df-11de5b15-e8ba-4c2a-af11-3e6e5e77ab07')\"\n",
       "            title=\"Convert this dataframe to an interactive table.\"\n",
       "            style=\"display:none;\">\n",
       "\n",
       "  <svg xmlns=\"http://www.w3.org/2000/svg\" height=\"24px\" viewBox=\"0 -960 960 960\">\n",
       "    <path d=\"M120-120v-720h720v720H120Zm60-500h600v-160H180v160Zm220 220h160v-160H400v160Zm0 220h160v-160H400v160ZM180-400h160v-160H180v160Zm440 0h160v-160H620v160ZM180-180h160v-160H180v160Zm440 0h160v-160H620v160Z\"/>\n",
       "  </svg>\n",
       "    </button>\n",
       "\n",
       "  <style>\n",
       "    .colab-df-container {\n",
       "      display:flex;\n",
       "      gap: 12px;\n",
       "    }\n",
       "\n",
       "    .colab-df-convert {\n",
       "      background-color: #E8F0FE;\n",
       "      border: none;\n",
       "      border-radius: 50%;\n",
       "      cursor: pointer;\n",
       "      display: none;\n",
       "      fill: #1967D2;\n",
       "      height: 32px;\n",
       "      padding: 0 0 0 0;\n",
       "      width: 32px;\n",
       "    }\n",
       "\n",
       "    .colab-df-convert:hover {\n",
       "      background-color: #E2EBFA;\n",
       "      box-shadow: 0px 1px 2px rgba(60, 64, 67, 0.3), 0px 1px 3px 1px rgba(60, 64, 67, 0.15);\n",
       "      fill: #174EA6;\n",
       "    }\n",
       "\n",
       "    .colab-df-buttons div {\n",
       "      margin-bottom: 4px;\n",
       "    }\n",
       "\n",
       "    [theme=dark] .colab-df-convert {\n",
       "      background-color: #3B4455;\n",
       "      fill: #D2E3FC;\n",
       "    }\n",
       "\n",
       "    [theme=dark] .colab-df-convert:hover {\n",
       "      background-color: #434B5C;\n",
       "      box-shadow: 0px 1px 3px 1px rgba(0, 0, 0, 0.15);\n",
       "      filter: drop-shadow(0px 1px 2px rgba(0, 0, 0, 0.3));\n",
       "      fill: #FFFFFF;\n",
       "    }\n",
       "  </style>\n",
       "\n",
       "    <script>\n",
       "      const buttonEl =\n",
       "        document.querySelector('#df-11de5b15-e8ba-4c2a-af11-3e6e5e77ab07 button.colab-df-convert');\n",
       "      buttonEl.style.display =\n",
       "        google.colab.kernel.accessAllowed ? 'block' : 'none';\n",
       "\n",
       "      async function convertToInteractive(key) {\n",
       "        const element = document.querySelector('#df-11de5b15-e8ba-4c2a-af11-3e6e5e77ab07');\n",
       "        const dataTable =\n",
       "          await google.colab.kernel.invokeFunction('convertToInteractive',\n",
       "                                                    [key], {});\n",
       "        if (!dataTable) return;\n",
       "\n",
       "        const docLinkHtml = 'Like what you see? Visit the ' +\n",
       "          '<a target=\"_blank\" href=https://colab.research.google.com/notebooks/data_table.ipynb>data table notebook</a>'\n",
       "          + ' to learn more about interactive tables.';\n",
       "        element.innerHTML = '';\n",
       "        dataTable['output_type'] = 'display_data';\n",
       "        await google.colab.output.renderOutput(dataTable, element);\n",
       "        const docLink = document.createElement('div');\n",
       "        docLink.innerHTML = docLinkHtml;\n",
       "        element.appendChild(docLink);\n",
       "      }\n",
       "    </script>\n",
       "  </div>\n",
       "\n",
       "\n",
       "<div id=\"df-bfc46fc2-c25a-49a0-94df-609ecba521c1\">\n",
       "  <button class=\"colab-df-quickchart\" onclick=\"quickchart('df-bfc46fc2-c25a-49a0-94df-609ecba521c1')\"\n",
       "            title=\"Suggest charts\"\n",
       "            style=\"display:none;\">\n",
       "\n",
       "<svg xmlns=\"http://www.w3.org/2000/svg\" height=\"24px\"viewBox=\"0 0 24 24\"\n",
       "     width=\"24px\">\n",
       "    <g>\n",
       "        <path d=\"M19 3H5c-1.1 0-2 .9-2 2v14c0 1.1.9 2 2 2h14c1.1 0 2-.9 2-2V5c0-1.1-.9-2-2-2zM9 17H7v-7h2v7zm4 0h-2V7h2v10zm4 0h-2v-4h2v4z\"/>\n",
       "    </g>\n",
       "</svg>\n",
       "  </button>\n",
       "\n",
       "<style>\n",
       "  .colab-df-quickchart {\n",
       "      --bg-color: #E8F0FE;\n",
       "      --fill-color: #1967D2;\n",
       "      --hover-bg-color: #E2EBFA;\n",
       "      --hover-fill-color: #174EA6;\n",
       "      --disabled-fill-color: #AAA;\n",
       "      --disabled-bg-color: #DDD;\n",
       "  }\n",
       "\n",
       "  [theme=dark] .colab-df-quickchart {\n",
       "      --bg-color: #3B4455;\n",
       "      --fill-color: #D2E3FC;\n",
       "      --hover-bg-color: #434B5C;\n",
       "      --hover-fill-color: #FFFFFF;\n",
       "      --disabled-bg-color: #3B4455;\n",
       "      --disabled-fill-color: #666;\n",
       "  }\n",
       "\n",
       "  .colab-df-quickchart {\n",
       "    background-color: var(--bg-color);\n",
       "    border: none;\n",
       "    border-radius: 50%;\n",
       "    cursor: pointer;\n",
       "    display: none;\n",
       "    fill: var(--fill-color);\n",
       "    height: 32px;\n",
       "    padding: 0;\n",
       "    width: 32px;\n",
       "  }\n",
       "\n",
       "  .colab-df-quickchart:hover {\n",
       "    background-color: var(--hover-bg-color);\n",
       "    box-shadow: 0 1px 2px rgba(60, 64, 67, 0.3), 0 1px 3px 1px rgba(60, 64, 67, 0.15);\n",
       "    fill: var(--button-hover-fill-color);\n",
       "  }\n",
       "\n",
       "  .colab-df-quickchart-complete:disabled,\n",
       "  .colab-df-quickchart-complete:disabled:hover {\n",
       "    background-color: var(--disabled-bg-color);\n",
       "    fill: var(--disabled-fill-color);\n",
       "    box-shadow: none;\n",
       "  }\n",
       "\n",
       "  .colab-df-spinner {\n",
       "    border: 2px solid var(--fill-color);\n",
       "    border-color: transparent;\n",
       "    border-bottom-color: var(--fill-color);\n",
       "    animation:\n",
       "      spin 1s steps(1) infinite;\n",
       "  }\n",
       "\n",
       "  @keyframes spin {\n",
       "    0% {\n",
       "      border-color: transparent;\n",
       "      border-bottom-color: var(--fill-color);\n",
       "      border-left-color: var(--fill-color);\n",
       "    }\n",
       "    20% {\n",
       "      border-color: transparent;\n",
       "      border-left-color: var(--fill-color);\n",
       "      border-top-color: var(--fill-color);\n",
       "    }\n",
       "    30% {\n",
       "      border-color: transparent;\n",
       "      border-left-color: var(--fill-color);\n",
       "      border-top-color: var(--fill-color);\n",
       "      border-right-color: var(--fill-color);\n",
       "    }\n",
       "    40% {\n",
       "      border-color: transparent;\n",
       "      border-right-color: var(--fill-color);\n",
       "      border-top-color: var(--fill-color);\n",
       "    }\n",
       "    60% {\n",
       "      border-color: transparent;\n",
       "      border-right-color: var(--fill-color);\n",
       "    }\n",
       "    80% {\n",
       "      border-color: transparent;\n",
       "      border-right-color: var(--fill-color);\n",
       "      border-bottom-color: var(--fill-color);\n",
       "    }\n",
       "    90% {\n",
       "      border-color: transparent;\n",
       "      border-bottom-color: var(--fill-color);\n",
       "    }\n",
       "  }\n",
       "</style>\n",
       "\n",
       "  <script>\n",
       "    async function quickchart(key) {\n",
       "      const quickchartButtonEl =\n",
       "        document.querySelector('#' + key + ' button');\n",
       "      quickchartButtonEl.disabled = true;  // To prevent multiple clicks.\n",
       "      quickchartButtonEl.classList.add('colab-df-spinner');\n",
       "      try {\n",
       "        const charts = await google.colab.kernel.invokeFunction(\n",
       "            'suggestCharts', [key], {});\n",
       "      } catch (error) {\n",
       "        console.error('Error during call to suggestCharts:', error);\n",
       "      }\n",
       "      quickchartButtonEl.classList.remove('colab-df-spinner');\n",
       "      quickchartButtonEl.classList.add('colab-df-quickchart-complete');\n",
       "    }\n",
       "    (() => {\n",
       "      let quickchartButtonEl =\n",
       "        document.querySelector('#df-bfc46fc2-c25a-49a0-94df-609ecba521c1 button');\n",
       "      quickchartButtonEl.style.display =\n",
       "        google.colab.kernel.accessAllowed ? 'block' : 'none';\n",
       "    })();\n",
       "  </script>\n",
       "</div>\n",
       "\n",
       "    </div>\n",
       "  </div>\n"
      ],
      "text/plain": [
       "        N   P   K  temperature   humidity        ph    rainfall   label\n",
       "1207    0  18  14    29.771494  92.007200  7.207991  114.416179  orange\n",
       "1645    0  18  14    29.771494  92.007200  7.207991  114.416179  orange\n",
       "1221    0  25  14    19.335168  91.979789  6.361671  116.450422  orange\n",
       "1659    0  25  14    19.335168  91.979789  6.361671  116.450422  orange\n",
       "346     0  65  15    23.461683  23.221976  5.645436   95.842534   beans\n",
       "...   ...  ..  ..          ...        ...       ...         ...     ...\n",
       "1606  118  21  34    24.385346  64.725431  7.234258  119.632411  coffee\n",
       "710   118  88  52    28.650039  82.687525  5.843163   98.750844  banana\n",
       "1683  118  88  52    28.650039  82.687525  5.843163   98.750844  banana\n",
       "1437  120  40  33    24.238506  54.303296  6.734105  115.156401  coffee\n",
       "1612  120  40  33    24.238506  54.303296  6.734105  115.156401  coffee\n",
       "\n",
       "[206 rows x 8 columns]"
      ]
     },
     "execution_count": 29,
     "metadata": {},
     "output_type": "execute_result"
    }
   ],
   "source": [
    "df[df.duplicated(keep=False)].sort_values(by=['N', 'P'])"
   ]
  },
  {
   "cell_type": "markdown",
   "metadata": {
    "id": "VL5K653AWi3f"
   },
   "source": [
    "There are 260 duplicates. Duplicated rows in a dataset can cause overfitting, introduce bias, and skew data distribution, which compromises a decision tree model's ability to generalize and perform accurately on unseen data. This can significantly limit the model's practical effectiveness. Due to the previous reasons the duplicates should be removed."
   ]
  },
  {
   "cell_type": "markdown",
   "metadata": {
    "id": "VlLAiuOZnbSO"
   },
   "source": [
    "### Delete duplicates\n",
    "\n",
    "Drop duplicates and keep only one record-row"
   ]
  },
  {
   "cell_type": "code",
   "execution_count": 35,
   "metadata": {
    "colab": {
     "base_uri": "https://localhost:8080/",
     "height": 424
    },
    "id": "gKJns8GYehJj",
    "outputId": "71e9c8d1-a040-4fa6-9554-d0790ad124be"
   },
   "outputs": [
    {
     "data": {
      "application/vnd.google.colaboratory.intrinsic+json": {
       "summary": "{\n  \"name\": \"df_unique\",\n  \"rows\": 1594,\n  \"fields\": [\n    {\n      \"column\": \"N\",\n      \"properties\": {\n        \"dtype\": \"number\",\n        \"std\": 38,\n        \"min\": 0,\n        \"max\": 140,\n        \"num_unique_values\": 136,\n        \"samples\": [\n          30,\n          36,\n          46\n        ],\n        \"semantic_type\": \"\",\n        \"description\": \"\"\n      }\n    },\n    {\n      \"column\": \"P\",\n      \"properties\": {\n        \"dtype\": \"number\",\n        \"std\": 34,\n        \"min\": 5,\n        \"max\": 145,\n        \"num_unique_values\": 117,\n        \"samples\": [\n          69,\n          37,\n          86\n        ],\n        \"semantic_type\": \"\",\n        \"description\": \"\"\n      }\n    },\n    {\n      \"column\": \"K\",\n      \"properties\": {\n        \"dtype\": \"number\",\n        \"std\": 58,\n        \"min\": 5,\n        \"max\": 205,\n        \"num_unique_values\": 73,\n        \"samples\": [\n          42,\n          12,\n          15\n        ],\n        \"semantic_type\": \"\",\n        \"description\": \"\"\n      }\n    },\n    {\n      \"column\": \"temperature\",\n      \"properties\": {\n        \"dtype\": \"number\",\n        \"std\": 4.95363175386907,\n        \"min\": 8.825674745,\n        \"max\": 41.94865736,\n        \"num_unique_values\": 1594,\n        \"samples\": [\n          17.5862944,\n          21.07273439,\n          17.68408797\n        ],\n        \"semantic_type\": \"\",\n        \"description\": \"\"\n      }\n    },\n    {\n      \"column\": \"humidity\",\n      \"properties\": {\n        \"dtype\": \"number\",\n        \"std\": 24.212157174361817,\n        \"min\": 14.25803981,\n        \"max\": 94.96419851,\n        \"num_unique_values\": 1575,\n        \"samples\": [\n          91.74780462,\n          48.5622488,\n          93.45067555\n        ],\n        \"semantic_type\": \"\",\n        \"description\": \"\"\n      }\n    },\n    {\n      \"column\": \"ph\",\n      \"properties\": {\n        \"dtype\": \"number\",\n        \"std\": 0.8838722024199326,\n        \"min\": 3.504752314,\n        \"max\": 9.93509073,\n        \"num_unique_values\": 1564,\n        \"samples\": [\n          5.818219385,\n          7.728998197,\n          7.235070264\n        ],\n        \"semantic_type\": \"\",\n        \"description\": \"\"\n      }\n    },\n    {\n      \"column\": \"rainfall\",\n      \"properties\": {\n        \"dtype\": \"number\",\n        \"std\": 51.47477733467244,\n        \"min\": 5.31450727,\n        \"max\": 298.5601175,\n        \"num_unique_values\": 1588,\n        \"samples\": [\n          40.228644,\n          149.299952,\n          181.4170812\n        ],\n        \"semantic_type\": \"\",\n        \"description\": \"\"\n      }\n    },\n    {\n      \"column\": \"label\",\n      \"properties\": {\n        \"dtype\": \"category\",\n        \"num_unique_values\": 15,\n        \"samples\": [\n          \"grapes\",\n          \"apple\",\n          \"rice\"\n        ],\n        \"semantic_type\": \"\",\n        \"description\": \"\"\n      }\n    }\n  ]\n}",
       "type": "dataframe",
       "variable_name": "df_unique"
      },
      "text/html": [
       "\n",
       "  <div id=\"df-4cee5562-363b-4de4-8c24-33ca0f7d0d65\" class=\"colab-df-container\">\n",
       "    <div>\n",
       "<style scoped>\n",
       "    .dataframe tbody tr th:only-of-type {\n",
       "        vertical-align: middle;\n",
       "    }\n",
       "\n",
       "    .dataframe tbody tr th {\n",
       "        vertical-align: top;\n",
       "    }\n",
       "\n",
       "    .dataframe thead th {\n",
       "        text-align: right;\n",
       "    }\n",
       "</style>\n",
       "<table border=\"1\" class=\"dataframe\">\n",
       "  <thead>\n",
       "    <tr style=\"text-align: right;\">\n",
       "      <th></th>\n",
       "      <th>N</th>\n",
       "      <th>P</th>\n",
       "      <th>K</th>\n",
       "      <th>temperature</th>\n",
       "      <th>humidity</th>\n",
       "      <th>ph</th>\n",
       "      <th>rainfall</th>\n",
       "      <th>label</th>\n",
       "    </tr>\n",
       "  </thead>\n",
       "  <tbody>\n",
       "    <tr>\n",
       "      <th>0</th>\n",
       "      <td>90</td>\n",
       "      <td>42</td>\n",
       "      <td>43</td>\n",
       "      <td>20.879744</td>\n",
       "      <td>82.002744</td>\n",
       "      <td>6.502985</td>\n",
       "      <td>202.935536</td>\n",
       "      <td>rice</td>\n",
       "    </tr>\n",
       "    <tr>\n",
       "      <th>1</th>\n",
       "      <td>85</td>\n",
       "      <td>58</td>\n",
       "      <td>41</td>\n",
       "      <td>21.770462</td>\n",
       "      <td>80.319644</td>\n",
       "      <td>7.038096</td>\n",
       "      <td>226.655537</td>\n",
       "      <td>rice</td>\n",
       "    </tr>\n",
       "    <tr>\n",
       "      <th>2</th>\n",
       "      <td>60</td>\n",
       "      <td>55</td>\n",
       "      <td>44</td>\n",
       "      <td>23.004459</td>\n",
       "      <td>82.320763</td>\n",
       "      <td>7.840207</td>\n",
       "      <td>263.964248</td>\n",
       "      <td>rice</td>\n",
       "    </tr>\n",
       "    <tr>\n",
       "      <th>3</th>\n",
       "      <td>74</td>\n",
       "      <td>35</td>\n",
       "      <td>40</td>\n",
       "      <td>26.491096</td>\n",
       "      <td>80.158363</td>\n",
       "      <td>6.980401</td>\n",
       "      <td>242.864034</td>\n",
       "      <td>rice</td>\n",
       "    </tr>\n",
       "    <tr>\n",
       "      <th>4</th>\n",
       "      <td>78</td>\n",
       "      <td>42</td>\n",
       "      <td>42</td>\n",
       "      <td>20.130175</td>\n",
       "      <td>81.604873</td>\n",
       "      <td>7.628473</td>\n",
       "      <td>262.717340</td>\n",
       "      <td>rice</td>\n",
       "    </tr>\n",
       "    <tr>\n",
       "      <th>...</th>\n",
       "      <td>...</td>\n",
       "      <td>...</td>\n",
       "      <td>...</td>\n",
       "      <td>...</td>\n",
       "      <td>...</td>\n",
       "      <td>...</td>\n",
       "      <td>...</td>\n",
       "      <td>...</td>\n",
       "    </tr>\n",
       "    <tr>\n",
       "      <th>1589</th>\n",
       "      <td>22</td>\n",
       "      <td>67</td>\n",
       "      <td>78</td>\n",
       "      <td>17.366064</td>\n",
       "      <td>14.724575</td>\n",
       "      <td>6.204091</td>\n",
       "      <td>73.326675</td>\n",
       "      <td>Soyabeans</td>\n",
       "    </tr>\n",
       "    <tr>\n",
       "      <th>1590</th>\n",
       "      <td>36</td>\n",
       "      <td>65</td>\n",
       "      <td>80</td>\n",
       "      <td>18.487201</td>\n",
       "      <td>16.979216</td>\n",
       "      <td>6.051091</td>\n",
       "      <td>75.874456</td>\n",
       "      <td>Soyabeans</td>\n",
       "    </tr>\n",
       "    <tr>\n",
       "      <th>1591</th>\n",
       "      <td>59</td>\n",
       "      <td>60</td>\n",
       "      <td>84</td>\n",
       "      <td>19.230253</td>\n",
       "      <td>18.967256</td>\n",
       "      <td>7.690962</td>\n",
       "      <td>95.709920</td>\n",
       "      <td>Soyabeans</td>\n",
       "    </tr>\n",
       "    <tr>\n",
       "      <th>1592</th>\n",
       "      <td>54</td>\n",
       "      <td>77</td>\n",
       "      <td>85</td>\n",
       "      <td>17.341861</td>\n",
       "      <td>17.366243</td>\n",
       "      <td>7.829211</td>\n",
       "      <td>84.746067</td>\n",
       "      <td>Soyabeans</td>\n",
       "    </tr>\n",
       "    <tr>\n",
       "      <th>1593</th>\n",
       "      <td>43</td>\n",
       "      <td>68</td>\n",
       "      <td>81</td>\n",
       "      <td>17.678094</td>\n",
       "      <td>18.232540</td>\n",
       "      <td>6.761600</td>\n",
       "      <td>79.920602</td>\n",
       "      <td>Soyabeans</td>\n",
       "    </tr>\n",
       "  </tbody>\n",
       "</table>\n",
       "<p>1594 rows × 8 columns</p>\n",
       "</div>\n",
       "    <div class=\"colab-df-buttons\">\n",
       "\n",
       "  <div class=\"colab-df-container\">\n",
       "    <button class=\"colab-df-convert\" onclick=\"convertToInteractive('df-4cee5562-363b-4de4-8c24-33ca0f7d0d65')\"\n",
       "            title=\"Convert this dataframe to an interactive table.\"\n",
       "            style=\"display:none;\">\n",
       "\n",
       "  <svg xmlns=\"http://www.w3.org/2000/svg\" height=\"24px\" viewBox=\"0 -960 960 960\">\n",
       "    <path d=\"M120-120v-720h720v720H120Zm60-500h600v-160H180v160Zm220 220h160v-160H400v160Zm0 220h160v-160H400v160ZM180-400h160v-160H180v160Zm440 0h160v-160H620v160ZM180-180h160v-160H180v160Zm440 0h160v-160H620v160Z\"/>\n",
       "  </svg>\n",
       "    </button>\n",
       "\n",
       "  <style>\n",
       "    .colab-df-container {\n",
       "      display:flex;\n",
       "      gap: 12px;\n",
       "    }\n",
       "\n",
       "    .colab-df-convert {\n",
       "      background-color: #E8F0FE;\n",
       "      border: none;\n",
       "      border-radius: 50%;\n",
       "      cursor: pointer;\n",
       "      display: none;\n",
       "      fill: #1967D2;\n",
       "      height: 32px;\n",
       "      padding: 0 0 0 0;\n",
       "      width: 32px;\n",
       "    }\n",
       "\n",
       "    .colab-df-convert:hover {\n",
       "      background-color: #E2EBFA;\n",
       "      box-shadow: 0px 1px 2px rgba(60, 64, 67, 0.3), 0px 1px 3px 1px rgba(60, 64, 67, 0.15);\n",
       "      fill: #174EA6;\n",
       "    }\n",
       "\n",
       "    .colab-df-buttons div {\n",
       "      margin-bottom: 4px;\n",
       "    }\n",
       "\n",
       "    [theme=dark] .colab-df-convert {\n",
       "      background-color: #3B4455;\n",
       "      fill: #D2E3FC;\n",
       "    }\n",
       "\n",
       "    [theme=dark] .colab-df-convert:hover {\n",
       "      background-color: #434B5C;\n",
       "      box-shadow: 0px 1px 3px 1px rgba(0, 0, 0, 0.15);\n",
       "      filter: drop-shadow(0px 1px 2px rgba(0, 0, 0, 0.3));\n",
       "      fill: #FFFFFF;\n",
       "    }\n",
       "  </style>\n",
       "\n",
       "    <script>\n",
       "      const buttonEl =\n",
       "        document.querySelector('#df-4cee5562-363b-4de4-8c24-33ca0f7d0d65 button.colab-df-convert');\n",
       "      buttonEl.style.display =\n",
       "        google.colab.kernel.accessAllowed ? 'block' : 'none';\n",
       "\n",
       "      async function convertToInteractive(key) {\n",
       "        const element = document.querySelector('#df-4cee5562-363b-4de4-8c24-33ca0f7d0d65');\n",
       "        const dataTable =\n",
       "          await google.colab.kernel.invokeFunction('convertToInteractive',\n",
       "                                                    [key], {});\n",
       "        if (!dataTable) return;\n",
       "\n",
       "        const docLinkHtml = 'Like what you see? Visit the ' +\n",
       "          '<a target=\"_blank\" href=https://colab.research.google.com/notebooks/data_table.ipynb>data table notebook</a>'\n",
       "          + ' to learn more about interactive tables.';\n",
       "        element.innerHTML = '';\n",
       "        dataTable['output_type'] = 'display_data';\n",
       "        await google.colab.output.renderOutput(dataTable, element);\n",
       "        const docLink = document.createElement('div');\n",
       "        docLink.innerHTML = docLinkHtml;\n",
       "        element.appendChild(docLink);\n",
       "      }\n",
       "    </script>\n",
       "  </div>\n",
       "\n",
       "\n",
       "<div id=\"df-b85eea13-15a4-4b47-8a07-6564f0b93846\">\n",
       "  <button class=\"colab-df-quickchart\" onclick=\"quickchart('df-b85eea13-15a4-4b47-8a07-6564f0b93846')\"\n",
       "            title=\"Suggest charts\"\n",
       "            style=\"display:none;\">\n",
       "\n",
       "<svg xmlns=\"http://www.w3.org/2000/svg\" height=\"24px\"viewBox=\"0 0 24 24\"\n",
       "     width=\"24px\">\n",
       "    <g>\n",
       "        <path d=\"M19 3H5c-1.1 0-2 .9-2 2v14c0 1.1.9 2 2 2h14c1.1 0 2-.9 2-2V5c0-1.1-.9-2-2-2zM9 17H7v-7h2v7zm4 0h-2V7h2v10zm4 0h-2v-4h2v4z\"/>\n",
       "    </g>\n",
       "</svg>\n",
       "  </button>\n",
       "\n",
       "<style>\n",
       "  .colab-df-quickchart {\n",
       "      --bg-color: #E8F0FE;\n",
       "      --fill-color: #1967D2;\n",
       "      --hover-bg-color: #E2EBFA;\n",
       "      --hover-fill-color: #174EA6;\n",
       "      --disabled-fill-color: #AAA;\n",
       "      --disabled-bg-color: #DDD;\n",
       "  }\n",
       "\n",
       "  [theme=dark] .colab-df-quickchart {\n",
       "      --bg-color: #3B4455;\n",
       "      --fill-color: #D2E3FC;\n",
       "      --hover-bg-color: #434B5C;\n",
       "      --hover-fill-color: #FFFFFF;\n",
       "      --disabled-bg-color: #3B4455;\n",
       "      --disabled-fill-color: #666;\n",
       "  }\n",
       "\n",
       "  .colab-df-quickchart {\n",
       "    background-color: var(--bg-color);\n",
       "    border: none;\n",
       "    border-radius: 50%;\n",
       "    cursor: pointer;\n",
       "    display: none;\n",
       "    fill: var(--fill-color);\n",
       "    height: 32px;\n",
       "    padding: 0;\n",
       "    width: 32px;\n",
       "  }\n",
       "\n",
       "  .colab-df-quickchart:hover {\n",
       "    background-color: var(--hover-bg-color);\n",
       "    box-shadow: 0 1px 2px rgba(60, 64, 67, 0.3), 0 1px 3px 1px rgba(60, 64, 67, 0.15);\n",
       "    fill: var(--button-hover-fill-color);\n",
       "  }\n",
       "\n",
       "  .colab-df-quickchart-complete:disabled,\n",
       "  .colab-df-quickchart-complete:disabled:hover {\n",
       "    background-color: var(--disabled-bg-color);\n",
       "    fill: var(--disabled-fill-color);\n",
       "    box-shadow: none;\n",
       "  }\n",
       "\n",
       "  .colab-df-spinner {\n",
       "    border: 2px solid var(--fill-color);\n",
       "    border-color: transparent;\n",
       "    border-bottom-color: var(--fill-color);\n",
       "    animation:\n",
       "      spin 1s steps(1) infinite;\n",
       "  }\n",
       "\n",
       "  @keyframes spin {\n",
       "    0% {\n",
       "      border-color: transparent;\n",
       "      border-bottom-color: var(--fill-color);\n",
       "      border-left-color: var(--fill-color);\n",
       "    }\n",
       "    20% {\n",
       "      border-color: transparent;\n",
       "      border-left-color: var(--fill-color);\n",
       "      border-top-color: var(--fill-color);\n",
       "    }\n",
       "    30% {\n",
       "      border-color: transparent;\n",
       "      border-left-color: var(--fill-color);\n",
       "      border-top-color: var(--fill-color);\n",
       "      border-right-color: var(--fill-color);\n",
       "    }\n",
       "    40% {\n",
       "      border-color: transparent;\n",
       "      border-right-color: var(--fill-color);\n",
       "      border-top-color: var(--fill-color);\n",
       "    }\n",
       "    60% {\n",
       "      border-color: transparent;\n",
       "      border-right-color: var(--fill-color);\n",
       "    }\n",
       "    80% {\n",
       "      border-color: transparent;\n",
       "      border-right-color: var(--fill-color);\n",
       "      border-bottom-color: var(--fill-color);\n",
       "    }\n",
       "    90% {\n",
       "      border-color: transparent;\n",
       "      border-bottom-color: var(--fill-color);\n",
       "    }\n",
       "  }\n",
       "</style>\n",
       "\n",
       "  <script>\n",
       "    async function quickchart(key) {\n",
       "      const quickchartButtonEl =\n",
       "        document.querySelector('#' + key + ' button');\n",
       "      quickchartButtonEl.disabled = true;  // To prevent multiple clicks.\n",
       "      quickchartButtonEl.classList.add('colab-df-spinner');\n",
       "      try {\n",
       "        const charts = await google.colab.kernel.invokeFunction(\n",
       "            'suggestCharts', [key], {});\n",
       "      } catch (error) {\n",
       "        console.error('Error during call to suggestCharts:', error);\n",
       "      }\n",
       "      quickchartButtonEl.classList.remove('colab-df-spinner');\n",
       "      quickchartButtonEl.classList.add('colab-df-quickchart-complete');\n",
       "    }\n",
       "    (() => {\n",
       "      let quickchartButtonEl =\n",
       "        document.querySelector('#df-b85eea13-15a4-4b47-8a07-6564f0b93846 button');\n",
       "      quickchartButtonEl.style.display =\n",
       "        google.colab.kernel.accessAllowed ? 'block' : 'none';\n",
       "    })();\n",
       "  </script>\n",
       "</div>\n",
       "\n",
       "  <div id=\"id_a34f310b-6101-4221-bc06-a01cb4cf8f37\">\n",
       "    <style>\n",
       "      .colab-df-generate {\n",
       "        background-color: #E8F0FE;\n",
       "        border: none;\n",
       "        border-radius: 50%;\n",
       "        cursor: pointer;\n",
       "        display: none;\n",
       "        fill: #1967D2;\n",
       "        height: 32px;\n",
       "        padding: 0 0 0 0;\n",
       "        width: 32px;\n",
       "      }\n",
       "\n",
       "      .colab-df-generate:hover {\n",
       "        background-color: #E2EBFA;\n",
       "        box-shadow: 0px 1px 2px rgba(60, 64, 67, 0.3), 0px 1px 3px 1px rgba(60, 64, 67, 0.15);\n",
       "        fill: #174EA6;\n",
       "      }\n",
       "\n",
       "      [theme=dark] .colab-df-generate {\n",
       "        background-color: #3B4455;\n",
       "        fill: #D2E3FC;\n",
       "      }\n",
       "\n",
       "      [theme=dark] .colab-df-generate:hover {\n",
       "        background-color: #434B5C;\n",
       "        box-shadow: 0px 1px 3px 1px rgba(0, 0, 0, 0.15);\n",
       "        filter: drop-shadow(0px 1px 2px rgba(0, 0, 0, 0.3));\n",
       "        fill: #FFFFFF;\n",
       "      }\n",
       "    </style>\n",
       "    <button class=\"colab-df-generate\" onclick=\"generateWithVariable('df_unique')\"\n",
       "            title=\"Generate code using this dataframe.\"\n",
       "            style=\"display:none;\">\n",
       "\n",
       "  <svg xmlns=\"http://www.w3.org/2000/svg\" height=\"24px\"viewBox=\"0 0 24 24\"\n",
       "       width=\"24px\">\n",
       "    <path d=\"M7,19H8.4L18.45,9,17,7.55,7,17.6ZM5,21V16.75L18.45,3.32a2,2,0,0,1,2.83,0l1.4,1.43a1.91,1.91,0,0,1,.58,1.4,1.91,1.91,0,0,1-.58,1.4L9.25,21ZM18.45,9,17,7.55Zm-12,3A5.31,5.31,0,0,0,4.9,8.1,5.31,5.31,0,0,0,1,6.5,5.31,5.31,0,0,0,4.9,4.9,5.31,5.31,0,0,0,6.5,1,5.31,5.31,0,0,0,8.1,4.9,5.31,5.31,0,0,0,12,6.5,5.46,5.46,0,0,0,6.5,12Z\"/>\n",
       "  </svg>\n",
       "    </button>\n",
       "    <script>\n",
       "      (() => {\n",
       "      const buttonEl =\n",
       "        document.querySelector('#id_a34f310b-6101-4221-bc06-a01cb4cf8f37 button.colab-df-generate');\n",
       "      buttonEl.style.display =\n",
       "        google.colab.kernel.accessAllowed ? 'block' : 'none';\n",
       "\n",
       "      buttonEl.onclick = () => {\n",
       "        google.colab.notebook.generateWithVariable('df_unique');\n",
       "      }\n",
       "      })();\n",
       "    </script>\n",
       "  </div>\n",
       "\n",
       "    </div>\n",
       "  </div>\n"
      ],
      "text/plain": [
       "       N   P   K  temperature   humidity        ph    rainfall      label\n",
       "0     90  42  43    20.879744  82.002744  6.502985  202.935536       rice\n",
       "1     85  58  41    21.770462  80.319644  7.038096  226.655537       rice\n",
       "2     60  55  44    23.004459  82.320763  7.840207  263.964248       rice\n",
       "3     74  35  40    26.491096  80.158363  6.980401  242.864034       rice\n",
       "4     78  42  42    20.130175  81.604873  7.628473  262.717340       rice\n",
       "...   ..  ..  ..          ...        ...       ...         ...        ...\n",
       "1589  22  67  78    17.366064  14.724575  6.204091   73.326675  Soyabeans\n",
       "1590  36  65  80    18.487201  16.979216  6.051091   75.874456  Soyabeans\n",
       "1591  59  60  84    19.230253  18.967256  7.690962   95.709920  Soyabeans\n",
       "1592  54  77  85    17.341861  17.366243  7.829211   84.746067  Soyabeans\n",
       "1593  43  68  81    17.678094  18.232540  6.761600   79.920602  Soyabeans\n",
       "\n",
       "[1594 rows x 8 columns]"
      ]
     },
     "execution_count": 35,
     "metadata": {},
     "output_type": "execute_result"
    }
   ],
   "source": [
    "df_unique = df.drop_duplicates()\n",
    "df_unique"
   ]
  },
  {
   "cell_type": "markdown",
   "metadata": {
    "id": "JUD1JafkeeVH"
   },
   "source": [
    "# 2. Decision tree"
   ]
  },
  {
   "cell_type": "markdown",
   "metadata": {
    "id": "oOVnjpIH1EU3"
   },
   "source": [
    "### A. Slip the dataset between atributes/features and labels\n",
    "\n",
    "The first step before starting a decision tree is to slip the dataset between atributes/features and labels.\n",
    "\n",
    "atributes/features: (x - the information you're using to make predictions)\n",
    "\n",
    "labels: (y- what you're trying to predict.)"
   ]
  },
  {
   "cell_type": "code",
   "execution_count": 36,
   "metadata": {
    "id": "ou9ObDV7TVXj"
   },
   "outputs": [],
   "source": [
    "x=df_unique.drop(columns=\"label\")\n",
    "y=df_unique['label']"
   ]
  },
  {
   "cell_type": "code",
   "execution_count": 37,
   "metadata": {
    "colab": {
     "base_uri": "https://localhost:8080/"
    },
    "id": "_-a8gjOXZ0Zp",
    "outputId": "64b069a1-58b7-4e6c-ce7d-2b86c84443be"
   },
   "outputs": [
    {
     "name": "stdout",
     "output_type": "stream",
     "text": [
      "       N   P   K  temperature   humidity        ph    rainfall\n",
      "0     90  42  43    20.879744  82.002744  6.502985  202.935536\n",
      "1     85  58  41    21.770462  80.319644  7.038096  226.655537\n",
      "2     60  55  44    23.004459  82.320763  7.840207  263.964248\n",
      "3     74  35  40    26.491096  80.158363  6.980401  242.864034\n",
      "4     78  42  42    20.130175  81.604873  7.628473  262.717340\n",
      "...   ..  ..  ..          ...        ...       ...         ...\n",
      "1589  22  67  78    17.366064  14.724575  6.204091   73.326675\n",
      "1590  36  65  80    18.487201  16.979216  6.051091   75.874456\n",
      "1591  59  60  84    19.230253  18.967256  7.690962   95.709920\n",
      "1592  54  77  85    17.341861  17.366243  7.829211   84.746067\n",
      "1593  43  68  81    17.678094  18.232540  6.761600   79.920602\n",
      "\n",
      "[1594 rows x 7 columns]\n"
     ]
    }
   ],
   "source": [
    "print(x)"
   ]
  },
  {
   "cell_type": "code",
   "execution_count": 38,
   "metadata": {
    "colab": {
     "base_uri": "https://localhost:8080/"
    },
    "id": "Zei8KIB4aW7B",
    "outputId": "d37f3066-60f6-4ef5-9d86-f7231f40158e"
   },
   "outputs": [
    {
     "name": "stdout",
     "output_type": "stream",
     "text": [
      "0            rice\n",
      "1            rice\n",
      "2            rice\n",
      "3            rice\n",
      "4            rice\n",
      "          ...    \n",
      "1589    Soyabeans\n",
      "1590    Soyabeans\n",
      "1591    Soyabeans\n",
      "1592    Soyabeans\n",
      "1593    Soyabeans\n",
      "Name: label, Length: 1594, dtype: object\n"
     ]
    }
   ],
   "source": [
    "print(y)"
   ]
  },
  {
   "cell_type": "markdown",
   "metadata": {
    "id": "lpruO8x4e9jj"
   },
   "source": [
    "### B. Import some classes, modules and fuctions\n",
    "\n",
    "The package used in this opportunity to make a decision tree is  sklearn different class and functions are from preprocessing ,model_selection ,metrics and tree from those modules different funtions will be imported"
   ]
  },
  {
   "cell_type": "code",
   "execution_count": 39,
   "metadata": {
    "id": "mSmewzv9aepN"
   },
   "outputs": [],
   "source": [
    "#First 2 classes - LabelEncoder and StandardScaler\n",
    "from sklearn.preprocessing import LabelEncoder,StandardScaler\n"
   ]
  },
  {
   "cell_type": "markdown",
   "metadata": {
    "id": "Yic68unCcmSC"
   },
   "source": [
    "LabelEncoder: transform labels to numerical values because decision tree require numerical input.\n",
    "\n",
    "StandardScaler: is a tool that takes your dataset and performs standardization on the features. It removes the mean and scales the features to have a variance of one. By doing this, it helps normalize the input variables, making them more suitable for training machine learning models. I know it is a lot! check this deep detail explanation !"
   ]
  },
  {
   "cell_type": "markdown",
   "metadata": {
    "id": "rS09WBriKf32"
   },
   "source": [
    "Function train_test_split"
   ]
  },
  {
   "cell_type": "code",
   "execution_count": 40,
   "metadata": {
    "id": "8lkvm8JzK1Uw"
   },
   "outputs": [],
   "source": [
    "from sklearn.model_selection import train_test_split"
   ]
  },
  {
   "cell_type": "markdown",
   "metadata": {
    "id": "TSMKfKq1K2L_"
   },
   "source": [
    "The train_test_split function from the sklearn.model_selection module is a helpful tool that allows you to divide the dataset into training and testing subsets. It facilitates the evaluation of machine learning model's performance before applying it to new data.\n",
    "\n",
    "Here's how it works:\n",
    "\n",
    "Input Data: You provide your dataset, which typically consists of input features (also called independent variables) and corresponding target labels (also called dependent variables).\n",
    "\n",
    "Splitting the Data: The train_test_split function randomly divides the dataset into two parts based on a specified ratio. By convention, the larger portion is used for training the model, while the smaller portion is used for evaluating its performance.\n",
    "\n",
    "Return Values: The function returns four separate objects: the training features, the testing features, the training labels, and the testing labels. These objects allow you to access and use the different subsets of your data."
   ]
  },
  {
   "cell_type": "markdown",
   "metadata": {
    "id": "UOXB0d8hMWwu"
   },
   "source": [
    "Classes: accuracy_score,confusion_matrix functions and ConfusionMatrixDisplay\n",
    "\n"
   ]
  },
  {
   "cell_type": "code",
   "execution_count": 41,
   "metadata": {
    "id": "dMTJNBhaMpQ0"
   },
   "outputs": [],
   "source": [
    " from sklearn.metrics import accuracy_score,confusion_matrix,ConfusionMatrixDisplay"
   ]
  },
  {
   "cell_type": "markdown",
   "metadata": {
    "id": "i4hDdlXQMqCb"
   },
   "source": [
    " The accuracy_score function allows you to calculate the accuracy of a classification model, the confusion_matrix function generates a matrix summarizing the model's performance, and the ConfusionMatrixDisplay class provides methods to visualize the confusion matrix. These tools help you evaluate and analyze the performance of the classification model.\n",
    "\n",
    " in detail...\n",
    "\n",
    "Accuracy_score: This function is used to measure the accuracy of a classification model's predictions. Given the true labels of a dataset and the predicted labels generated by a model, the accuracy_score function compares them and returns the percentage of correctly classified instances.\n",
    "\n",
    "Confusion_matrix: This function is used to create a confusion matrix, which is a table that summarizes the performance of a classification model. It takes the true labels and the predicted labels as input and generates a matrix that shows the number of true positives, true negatives, false positives, and false negatives.\n",
    "\n",
    "ConfusionMatrixDisplay: This is a class that allows you to visualize a confusion matrix in a more user-friendly way. It takes the confusion matrix as input and provides methods to plot it as a heatmap or a table, making it easier to interpret and analyze the performance of your classification model."
   ]
  },
  {
   "cell_type": "markdown",
   "metadata": {
    "id": "vZyxe8dBN85h"
   },
   "source": [
    "Class DecisionTreeClassifier"
   ]
  },
  {
   "cell_type": "code",
   "execution_count": 42,
   "metadata": {
    "id": "S898O7mpOC1E"
   },
   "outputs": [],
   "source": [
    " from sklearn.tree import DecisionTreeClassifier"
   ]
  },
  {
   "cell_type": "markdown",
   "metadata": {
    "id": "ANWKvPGcODa0"
   },
   "source": [
    "The DecisionTreeClassifier class from the sklearn.tree module is a powerful tool for building decision tree models specifically for classification tasks. It enables you to train a decision tree model using your dataset and make predictions on new data based on the learned rules.\n",
    "\n",
    "Here's how it works:\n",
    "\n",
    "Input Data: You provide a dataset that includes both input features (independent variables) and corresponding target labels (dependent variable). The features represent the characteristics or attributes of the data points, while the labels indicate the class or category that each data point belongs to.\n",
    "\n",
    "Training the Model: Using the DecisionTreeClassifier class, you can train the model by fitting it to your training data. During training, the algorithm learns the optimal conditions to split the data based on the features, in order to create decision rules that best separate the classes.\n",
    "\n",
    "Making Predictions: Once the model is trained, you can use it to make predictions on new, unseen data. Given the input features of a data point, the decision tree traverses the tree structure based on the learned rules and assigns a predicted class label to the data point.\n",
    "\n",
    "The DecisionTreeClassifier class provides various parameters and methods that allow you to customize and interact with the decision tree model. For example, you can control the maximum depth of the tree, specify the splitting criterion, handle missing values, and more."
   ]
  },
  {
   "cell_type": "markdown",
   "metadata": {
    "id": "-Kps0wDEgRjT"
   },
   "source": [
    "# 3.Hands on! buckle up buckaroo\n"
   ]
  },
  {
   "cell_type": "markdown",
   "metadata": {
    "id": "-tv0tKjNOQ45"
   },
   "source": [
    "### A. Distribution of Data for taining and testing"
   ]
  },
  {
   "cell_type": "code",
   "execution_count": 46,
   "metadata": {
    "id": "aXxQDnKbG3zG"
   },
   "outputs": [],
   "source": [
    "x_train, x_test, y_train, y_test = train_test_split(x, y, test_size=0.2, random_state=42)"
   ]
  },
  {
   "cell_type": "markdown",
   "metadata": {
    "id": "JP-KuGg7G5Bo"
   },
   "source": [
    "The test_size represents the fraction of the dataset that will be assigned to the test set. test_size=0.2 means that 20% of the data will be used for testing, and the remaining 80% will be used for training. It is a common choice for test_size and is often used as a rule of thumb. It strikes a balance between having enough data for training the model and having a sufficient amount of data for evaluating its performance on unseen examples.\n",
    "\n",
    "The random_state parameter is used to set a seed value for the random number generator used during the data splitting process. It ensures that the data split is reproducible, meaning that if you run the code with the same random_state value multiple times, you will get the same train-test split each time. The choice of random_state=42 is arbitrary. The number 42 is often used as a placeholder in computer science and has no special significance in this context. The important thing is that using the same **`random_state`** value (e.g., 42) allows you to reproduce the same train-test split if you need to rerun the code later. It helps with reproducibility and allows you to compare results consistently across different runs."
   ]
  },
  {
   "cell_type": "markdown",
   "metadata": {
    "id": "VmiQTx_BH0aP"
   },
   "source": [
    "### B. Instantiate the LabelEncoder and StandardScaler classes"
   ]
  },
  {
   "cell_type": "code",
   "execution_count": 44,
   "metadata": {
    "id": "HA5NO8BeHtWa"
   },
   "outputs": [],
   "source": [
    "le=LabelEncoder()\n",
    "sc=StandardScaler()"
   ]
  },
  {
   "cell_type": "markdown",
   "metadata": {
    "id": "mcLMg4unMEyg"
   },
   "source": [
    "### C. Fit and transform the training target variable and the test target variable\n"
   ]
  },
  {
   "cell_type": "code",
   "execution_count": 45,
   "metadata": {
    "colab": {
     "base_uri": "https://localhost:8080/"
    },
    "id": "PqcHf33RwROG",
    "outputId": "324affd5-36b0-4359-85c2-8f7805fa7094"
   },
   "outputs": [
    {
     "data": {
      "text/plain": [
       "array([ 7,  1, 11,  3,  4, 13, 11,  8, 14,  6,  6,  3,  8,  2, 11,  6, 13,\n",
       "        0, 10,  5,  0,  8,  9,  9, 13,  6, 11,  4,  0,  7,  3, 13, 14,  7,\n",
       "        0,  5, 12,  4,  4,  5,  0, 13,  4, 13, 11, 12,  6,  6,  6,  3, 13,\n",
       "       10,  7,  3,  2,  7, 14,  9,  4,  3, 13, 13, 12,  6, 14,  2,  8, 11,\n",
       "        3, 12,  1,  7,  0, 12,  1, 11, 14, 13,  3, 13,  2,  7, 10, 11,  7,\n",
       "        4,  6, 10, 11,  9,  9,  5, 13,  2, 10,  0,  3,  1,  3,  8, 12,  7,\n",
       "        8, 10, 10,  1, 12,  6, 12,  2,  0,  9,  4,  6,  8,  9,  3,  3,  2,\n",
       "        0, 13, 13, 10, 10, 13,  0,  8,  3, 12, 12, 13,  9,  0,  2,  3, 10,\n",
       "        0, 11,  6, 13, 12,  9,  2,  7,  8,  7,  9,  0,  1,  3,  6, 14,  5,\n",
       "        8,  5,  3, 12,  0,  5,  1,  7,  3,  2,  9, 10,  6, 11,  1,  2,  8,\n",
       "        1,  8, 10,  0,  3,  9, 14, 14,  0, 13,  4,  0, 14,  5,  0, 10,  0,\n",
       "       13, 14,  9, 13,  1,  5,  9, 14,  7,  3, 10, 13,  3,  4,  2, 12,  3,\n",
       "        8,  9, 13,  2,  6,  8,  6, 14,  1,  3,  8, 10,  8, 12, 12,  9,  1,\n",
       "        5,  1, 12, 12,  3,  2,  8,  5,  8,  7, 14,  0,  8,  7, 13, 13,  7,\n",
       "        4,  6,  8, 13,  9, 12,  9, 14,  9, 11, 10,  6,  9,  1, 11,  2,  1,\n",
       "        8,  5,  5,  2,  7,  7,  9,  7,  1,  2,  3,  4,  4,  3, 12, 14, 11,\n",
       "       11,  5, 11,  1, 14,  5,  5,  7,  0,  5,  5,  9,  1,  0,  2, 13, 11,\n",
       "       11,  9,  4, 13,  1, 11,  0,  4, 12,  5,  6,  6,  0,  8,  0, 11, 12,\n",
       "        7,  1,  5,  1, 12,  4,  7,  4,  4,  2,  0,  3,  1])"
      ]
     },
     "execution_count": 45,
     "metadata": {},
     "output_type": "execute_result"
    }
   ],
   "source": [
    "le.fit_transform(y_train)\n",
    "le.fit_transform(y_test)"
   ]
  },
  {
   "cell_type": "markdown",
   "metadata": {
    "id": "jfkjAM8cwR05"
   },
   "source": [
    "Fits the LabelEncoder object to the training target variable \"y_train\" and to the testing target variable \"y_test\" and transforms the labels into encoded numerical values."
   ]
  },
  {
   "cell_type": "markdown",
   "metadata": {
    "id": "InqlbHNZ2tiu"
   },
   "source": [
    "### D. Understand the distribution of the features to later normalize the features"
   ]
  },
  {
   "cell_type": "code",
   "execution_count": 47,
   "metadata": {
    "colab": {
     "base_uri": "https://localhost:8080/",
     "height": 75
    },
    "id": "mKCZ38Zo78Cr",
    "outputId": "dcd43958-e65a-477a-be26-adcab2268732"
   },
   "outputs": [
    {
     "data": {
      "text/html": [
       "<style>#sk-container-id-1 {color: black;background-color: white;}#sk-container-id-1 pre{padding: 0;}#sk-container-id-1 div.sk-toggleable {background-color: white;}#sk-container-id-1 label.sk-toggleable__label {cursor: pointer;display: block;width: 100%;margin-bottom: 0;padding: 0.3em;box-sizing: border-box;text-align: center;}#sk-container-id-1 label.sk-toggleable__label-arrow:before {content: \"▸\";float: left;margin-right: 0.25em;color: #696969;}#sk-container-id-1 label.sk-toggleable__label-arrow:hover:before {color: black;}#sk-container-id-1 div.sk-estimator:hover label.sk-toggleable__label-arrow:before {color: black;}#sk-container-id-1 div.sk-toggleable__content {max-height: 0;max-width: 0;overflow: hidden;text-align: left;background-color: #f0f8ff;}#sk-container-id-1 div.sk-toggleable__content pre {margin: 0.2em;color: black;border-radius: 0.25em;background-color: #f0f8ff;}#sk-container-id-1 input.sk-toggleable__control:checked~div.sk-toggleable__content {max-height: 200px;max-width: 100%;overflow: auto;}#sk-container-id-1 input.sk-toggleable__control:checked~label.sk-toggleable__label-arrow:before {content: \"▾\";}#sk-container-id-1 div.sk-estimator input.sk-toggleable__control:checked~label.sk-toggleable__label {background-color: #d4ebff;}#sk-container-id-1 div.sk-label input.sk-toggleable__control:checked~label.sk-toggleable__label {background-color: #d4ebff;}#sk-container-id-1 input.sk-hidden--visually {border: 0;clip: rect(1px 1px 1px 1px);clip: rect(1px, 1px, 1px, 1px);height: 1px;margin: -1px;overflow: hidden;padding: 0;position: absolute;width: 1px;}#sk-container-id-1 div.sk-estimator {font-family: monospace;background-color: #f0f8ff;border: 1px dotted black;border-radius: 0.25em;box-sizing: border-box;margin-bottom: 0.5em;}#sk-container-id-1 div.sk-estimator:hover {background-color: #d4ebff;}#sk-container-id-1 div.sk-parallel-item::after {content: \"\";width: 100%;border-bottom: 1px solid gray;flex-grow: 1;}#sk-container-id-1 div.sk-label:hover label.sk-toggleable__label {background-color: #d4ebff;}#sk-container-id-1 div.sk-serial::before {content: \"\";position: absolute;border-left: 1px solid gray;box-sizing: border-box;top: 0;bottom: 0;left: 50%;z-index: 0;}#sk-container-id-1 div.sk-serial {display: flex;flex-direction: column;align-items: center;background-color: white;padding-right: 0.2em;padding-left: 0.2em;position: relative;}#sk-container-id-1 div.sk-item {position: relative;z-index: 1;}#sk-container-id-1 div.sk-parallel {display: flex;align-items: stretch;justify-content: center;background-color: white;position: relative;}#sk-container-id-1 div.sk-item::before, #sk-container-id-1 div.sk-parallel-item::before {content: \"\";position: absolute;border-left: 1px solid gray;box-sizing: border-box;top: 0;bottom: 0;left: 50%;z-index: -1;}#sk-container-id-1 div.sk-parallel-item {display: flex;flex-direction: column;z-index: 1;position: relative;background-color: white;}#sk-container-id-1 div.sk-parallel-item:first-child::after {align-self: flex-end;width: 50%;}#sk-container-id-1 div.sk-parallel-item:last-child::after {align-self: flex-start;width: 50%;}#sk-container-id-1 div.sk-parallel-item:only-child::after {width: 0;}#sk-container-id-1 div.sk-dashed-wrapped {border: 1px dashed gray;margin: 0 0.4em 0.5em 0.4em;box-sizing: border-box;padding-bottom: 0.4em;background-color: white;}#sk-container-id-1 div.sk-label label {font-family: monospace;font-weight: bold;display: inline-block;line-height: 1.2em;}#sk-container-id-1 div.sk-label-container {text-align: center;}#sk-container-id-1 div.sk-container {/* jupyter's `normalize.less` sets `[hidden] { display: none; }` but bootstrap.min.css set `[hidden] { display: none !important; }` so we also need the `!important` here to be able to override the default hidden behavior on the sphinx rendered scikit-learn.org. See: https://github.com/scikit-learn/scikit-learn/issues/21755 */display: inline-block !important;position: relative;}#sk-container-id-1 div.sk-text-repr-fallback {display: none;}</style><div id=\"sk-container-id-1\" class=\"sk-top-container\"><div class=\"sk-text-repr-fallback\"><pre>StandardScaler()</pre><b>In a Jupyter environment, please rerun this cell to show the HTML representation or trust the notebook. <br />On GitHub, the HTML representation is unable to render, please try loading this page with nbviewer.org.</b></div><div class=\"sk-container\" hidden><div class=\"sk-item\"><div class=\"sk-estimator sk-toggleable\"><input class=\"sk-toggleable__control sk-hidden--visually\" id=\"sk-estimator-id-1\" type=\"checkbox\" checked><label for=\"sk-estimator-id-1\" class=\"sk-toggleable__label sk-toggleable__label-arrow\">StandardScaler</label><div class=\"sk-toggleable__content\"><pre>StandardScaler()</pre></div></div></div></div></div>"
      ],
      "text/plain": [
       "StandardScaler()"
      ]
     },
     "execution_count": 47,
     "metadata": {},
     "output_type": "execute_result"
    }
   ],
   "source": [
    "sc.fit(x_train)"
   ]
  },
  {
   "cell_type": "markdown",
   "metadata": {
    "id": "2ZgkO9SP8xfF"
   },
   "source": [
    "During this process, the scaler computes the necessary statistics (e.g., mean, standard deviation) from X_train to understand the distribution of the features.The scaler object is then ready to transform the training data or any other dataset using the learned statistics.\n",
    "\n",
    "Lets keep in mind that the purpose of scaling or normalization is to bring the features to a similar scale or range, which can help improve the performance and convergence of certain machine learning algorithms, including decision trees. Scaling ensures that no single feature dominates the learning process due to its larger magnitude, thus preventing biased model behavior."
   ]
  },
  {
   "cell_type": "markdown",
   "metadata": {
    "id": "5wj5UAZX9r_W"
   },
   "source": [
    "### E. Normalize the features"
   ]
  },
  {
   "cell_type": "code",
   "execution_count": 48,
   "metadata": {
    "colab": {
     "base_uri": "https://localhost:8080/"
    },
    "id": "ZlYdq5aD-TL3",
    "outputId": "7d0f541e-efb5-4a82-d117-a538683fae53"
   },
   "outputs": [
    {
     "data": {
      "text/plain": [
       "array([[-1.32543396,  2.25199775,  2.62862792, ...,  0.62285702,\n",
       "        -0.13242247, -0.54438972],\n",
       "       [-0.49193048,  2.02132053,  2.62862792, ...,  1.15228186,\n",
       "        -0.46250269,  0.16376708],\n",
       "       [-1.03891714, -1.12165672, -0.68224086, ...,  1.18526399,\n",
       "         0.27708334,  0.16745893],\n",
       "       ...,\n",
       "       [-0.72635334,  0.63725715,  0.51383215, ..., -2.05812949,\n",
       "         1.20920339, -0.5268441 ],\n",
       "       [-1.11705809,  0.40657992, -0.57823451, ..., -1.70510115,\n",
       "        -0.56350587,  0.26980129],\n",
       "       [-1.16915206,  2.28083241,  2.54195596, ...,  1.03247525,\n",
       "        -0.91693017,  0.06527413]])"
      ]
     },
     "execution_count": 48,
     "metadata": {},
     "output_type": "execute_result"
    }
   ],
   "source": [
    "sc.transform(x_train)\n",
    "sc.transform(x_test)"
   ]
  },
  {
   "cell_type": "markdown",
   "metadata": {
    "id": "Rc4faDo7-TpG"
   },
   "source": [
    "sc.transform(x_train) and sc.transform(x_test) are used to apply the same data scaling or normalization transformation to both the training data x_train and the testing data x_test.\n",
    "\n",
    "sc.transform(x_train) applies the scaling or normalization transformation to the training data x_train. It uses the statistics learned during the fitting step to transform the features in x_train accordingly.\n",
    "\n",
    "sc.transform(x_test) applies the same scaling or normalization transformation to the testing data x_test. This ensures that the scaling is consistent between the two datasets, as the same scaling parameters learned from x_train are used.\n",
    "\n",
    "By applying the same transformation to both the training and testing data, you ensure that the features are scaled or normalized in a consistent and comparable manner. This helps to avoid introducing bias or inconsistencies during model training and evaluation."
   ]
  },
  {
   "cell_type": "markdown",
   "metadata": {
    "id": "dwukBc3zDNis"
   },
   "source": [
    "### F. Initializes a decision tree classifier object"
   ]
  },
  {
   "cell_type": "code",
   "execution_count": 49,
   "metadata": {
    "id": "vR9bzehVDPkN"
   },
   "outputs": [],
   "source": [
    "dtc=DecisionTreeClassifier()"
   ]
  },
  {
   "cell_type": "markdown",
   "metadata": {
    "id": "T1Cb-ayVDQ_A"
   },
   "source": [
    "### G. Train a decision tree classifier model using the training data."
   ]
  },
  {
   "cell_type": "code",
   "execution_count": 50,
   "metadata": {
    "colab": {
     "base_uri": "https://localhost:8080/",
     "height": 75
    },
    "id": "3snBpMY6Hux4",
    "outputId": "e8bd9f68-d01c-4142-b9d2-eee4d78a98f7"
   },
   "outputs": [
    {
     "data": {
      "text/html": [
       "<style>#sk-container-id-2 {color: black;background-color: white;}#sk-container-id-2 pre{padding: 0;}#sk-container-id-2 div.sk-toggleable {background-color: white;}#sk-container-id-2 label.sk-toggleable__label {cursor: pointer;display: block;width: 100%;margin-bottom: 0;padding: 0.3em;box-sizing: border-box;text-align: center;}#sk-container-id-2 label.sk-toggleable__label-arrow:before {content: \"▸\";float: left;margin-right: 0.25em;color: #696969;}#sk-container-id-2 label.sk-toggleable__label-arrow:hover:before {color: black;}#sk-container-id-2 div.sk-estimator:hover label.sk-toggleable__label-arrow:before {color: black;}#sk-container-id-2 div.sk-toggleable__content {max-height: 0;max-width: 0;overflow: hidden;text-align: left;background-color: #f0f8ff;}#sk-container-id-2 div.sk-toggleable__content pre {margin: 0.2em;color: black;border-radius: 0.25em;background-color: #f0f8ff;}#sk-container-id-2 input.sk-toggleable__control:checked~div.sk-toggleable__content {max-height: 200px;max-width: 100%;overflow: auto;}#sk-container-id-2 input.sk-toggleable__control:checked~label.sk-toggleable__label-arrow:before {content: \"▾\";}#sk-container-id-2 div.sk-estimator input.sk-toggleable__control:checked~label.sk-toggleable__label {background-color: #d4ebff;}#sk-container-id-2 div.sk-label input.sk-toggleable__control:checked~label.sk-toggleable__label {background-color: #d4ebff;}#sk-container-id-2 input.sk-hidden--visually {border: 0;clip: rect(1px 1px 1px 1px);clip: rect(1px, 1px, 1px, 1px);height: 1px;margin: -1px;overflow: hidden;padding: 0;position: absolute;width: 1px;}#sk-container-id-2 div.sk-estimator {font-family: monospace;background-color: #f0f8ff;border: 1px dotted black;border-radius: 0.25em;box-sizing: border-box;margin-bottom: 0.5em;}#sk-container-id-2 div.sk-estimator:hover {background-color: #d4ebff;}#sk-container-id-2 div.sk-parallel-item::after {content: \"\";width: 100%;border-bottom: 1px solid gray;flex-grow: 1;}#sk-container-id-2 div.sk-label:hover label.sk-toggleable__label {background-color: #d4ebff;}#sk-container-id-2 div.sk-serial::before {content: \"\";position: absolute;border-left: 1px solid gray;box-sizing: border-box;top: 0;bottom: 0;left: 50%;z-index: 0;}#sk-container-id-2 div.sk-serial {display: flex;flex-direction: column;align-items: center;background-color: white;padding-right: 0.2em;padding-left: 0.2em;position: relative;}#sk-container-id-2 div.sk-item {position: relative;z-index: 1;}#sk-container-id-2 div.sk-parallel {display: flex;align-items: stretch;justify-content: center;background-color: white;position: relative;}#sk-container-id-2 div.sk-item::before, #sk-container-id-2 div.sk-parallel-item::before {content: \"\";position: absolute;border-left: 1px solid gray;box-sizing: border-box;top: 0;bottom: 0;left: 50%;z-index: -1;}#sk-container-id-2 div.sk-parallel-item {display: flex;flex-direction: column;z-index: 1;position: relative;background-color: white;}#sk-container-id-2 div.sk-parallel-item:first-child::after {align-self: flex-end;width: 50%;}#sk-container-id-2 div.sk-parallel-item:last-child::after {align-self: flex-start;width: 50%;}#sk-container-id-2 div.sk-parallel-item:only-child::after {width: 0;}#sk-container-id-2 div.sk-dashed-wrapped {border: 1px dashed gray;margin: 0 0.4em 0.5em 0.4em;box-sizing: border-box;padding-bottom: 0.4em;background-color: white;}#sk-container-id-2 div.sk-label label {font-family: monospace;font-weight: bold;display: inline-block;line-height: 1.2em;}#sk-container-id-2 div.sk-label-container {text-align: center;}#sk-container-id-2 div.sk-container {/* jupyter's `normalize.less` sets `[hidden] { display: none; }` but bootstrap.min.css set `[hidden] { display: none !important; }` so we also need the `!important` here to be able to override the default hidden behavior on the sphinx rendered scikit-learn.org. See: https://github.com/scikit-learn/scikit-learn/issues/21755 */display: inline-block !important;position: relative;}#sk-container-id-2 div.sk-text-repr-fallback {display: none;}</style><div id=\"sk-container-id-2\" class=\"sk-top-container\"><div class=\"sk-text-repr-fallback\"><pre>DecisionTreeClassifier()</pre><b>In a Jupyter environment, please rerun this cell to show the HTML representation or trust the notebook. <br />On GitHub, the HTML representation is unable to render, please try loading this page with nbviewer.org.</b></div><div class=\"sk-container\" hidden><div class=\"sk-item\"><div class=\"sk-estimator sk-toggleable\"><input class=\"sk-toggleable__control sk-hidden--visually\" id=\"sk-estimator-id-2\" type=\"checkbox\" checked><label for=\"sk-estimator-id-2\" class=\"sk-toggleable__label sk-toggleable__label-arrow\">DecisionTreeClassifier</label><div class=\"sk-toggleable__content\"><pre>DecisionTreeClassifier()</pre></div></div></div></div></div>"
      ],
      "text/plain": [
       "DecisionTreeClassifier()"
      ]
     },
     "execution_count": 50,
     "metadata": {},
     "output_type": "execute_result"
    }
   ],
   "source": [
    "dtc.fit(x_train,y_train)"
   ]
  },
  {
   "cell_type": "markdown",
   "metadata": {
    "id": "zdvMfKVmHvRT"
   },
   "source": [
    "When you call dtc.fit(X_train, y_train), the decision tree classifier model learns from the training data by analyzing the patterns and relationships between the input features and the target labels. It constructs a tree-based model that can be used to make predictions. By fitting the decision tree classifier to the training data, you enable it to learn from the provided examples and generalize that knowledge to make predictions on new, unseen instances.\n",
    "\n",
    "dtc.fit(x_train, y_train) is used to train a decision tree classifier model using the training data. This line of code fits the decision tree classifier object (dtc) to the input features (x_train) and the corresponding target labels (y_train).\n",
    "\n",
    "In detail:\n",
    "\n",
    "fit() is a method of the decision tree classifier object that is used to train the model.\n",
    "\n",
    "X_train represents the training data, which consists of the input features (independent variables).\n",
    "\n",
    "y_train represents the corresponding target labels for the training data."
   ]
  },
  {
   "cell_type": "markdown",
   "metadata": {
    "id": "Yb5bE8zIRfeD"
   },
   "source": [
    "### G. Executes the decision tree classifier's prediction algorithm"
   ]
  },
  {
   "cell_type": "code",
   "execution_count": 51,
   "metadata": {
    "id": "2GW_ibPARhSU"
   },
   "outputs": [],
   "source": [
    "y_pred=dtc.predict(x_test)"
   ]
  },
  {
   "cell_type": "markdown",
   "metadata": {
    "id": "GrDfosUzRiEj"
   },
   "source": [
    "y_pred = dtc.predict(X_test) executes the decision tree classifier's prediction algorithm on the test dataset and stores the predicted values in the y_pred variable for further analysis or evaluation.\n",
    "\n",
    "predict(): This is a method provided by the decision tree classifier object. When called with the test dataset (x_test), it applies the trained decision tree model to the test dataset and generates predictions for each input instance."
   ]
  },
  {
   "cell_type": "markdown",
   "metadata": {
    "id": "AvOr23L4Sx9Q"
   },
   "source": [
    "### H. accuracy_score"
   ]
  },
  {
   "cell_type": "code",
   "execution_count": 52,
   "metadata": {
    "colab": {
     "base_uri": "https://localhost:8080/"
    },
    "id": "qlTpdM3gSyhc",
    "outputId": "221a7611-6d3f-4f78-d49c-777bd9d43644"
   },
   "outputs": [
    {
     "data": {
      "text/plain": [
       "1.0"
      ]
     },
     "execution_count": 52,
     "metadata": {},
     "output_type": "execute_result"
    }
   ],
   "source": [
    "accuracy_score(y_test,y_pred)"
   ]
  },
  {
   "cell_type": "markdown",
   "metadata": {
    "id": "etSBK1uySzJ_"
   },
   "source": [
    "By calling accuracy_score(y_test, y_pred), you obtain the accuracy of the decision tree model on the test dataset. The output of this function call will be a decimal value representing the accuracy score, typically ranging from 0 to 1, where a value of 1 indicates perfect accuracy. The accuracy score is defined as the number of correct predictions divided by the total number of predictions."
   ]
  },
  {
   "cell_type": "markdown",
   "metadata": {
    "id": "7da4D-2p9png"
   },
   "source": [
    "### I. Confucion Matrix"
   ]
  },
  {
   "cell_type": "code",
   "execution_count": 53,
   "metadata": {
    "id": "3Xt53ps39r39"
   },
   "outputs": [],
   "source": [
    "cm = confusion_matrix(y_test, y_pred)"
   ]
  },
  {
   "cell_type": "markdown",
   "metadata": {
    "id": "gVBkW0hm9sXf"
   },
   "source": [
    "The confusion_matrix() function then compares the true labels (y_test) with the predicted labels (y_pred) and constructs a confusion matrix, which is a table that summarizes the performance of a classification algorithm. The confusion matrix has four elements:\n",
    "\n",
    "True Positive (TP): The number of observations that are actually positive and are predicted correctly as positive.\n",
    "True Negative (TN): The number of observations that are actually negative and are predicted correctly as negative.\n",
    "False Positive (FP): The number of observations that are actually negative but are predicted incorrectly as positive.\n",
    "False Negative (FN): The number of observations that are actually positive but are predicted incorrectly as negative.\n",
    "The resulting cm variable will hold the confusion matrix as a multidimensional array or matrix, which can be further analyzed or used to calculate various evaluation metrics like accuracy, precision, recall, or F1 score."
   ]
  },
  {
   "cell_type": "markdown",
   "metadata": {
    "id": "jNctKv1c9_Yg"
   },
   "source": [
    "### J. Plot confusionn Matrix"
   ]
  },
  {
   "cell_type": "code",
   "execution_count": 54,
   "metadata": {
    "colab": {
     "base_uri": "https://localhost:8080/",
     "height": 467
    },
    "id": "pIZgfO-D-Cxk",
    "outputId": "e9c7cfcd-4c8f-408c-c3b4-925e84ebd759"
   },
   "outputs": [
    {
     "data": {
      "text/plain": [
       "<sklearn.metrics._plot.confusion_matrix.ConfusionMatrixDisplay at 0x79237f316f80>"
      ]
     },
     "execution_count": 54,
     "metadata": {},
     "output_type": "execute_result"
    },
    {
     "data": {
      "image/png": "[encoded data removed]",
      "text/plain": [
       "<Figure size 640x480 with 2 Axes>"
      ]
     },
     "metadata": {},
     "output_type": "display_data"
    }
   ],
   "source": [
    "ConfusionMatrixDisplay(cm).plot()"
   ]
  },
  {
   "cell_type": "markdown",
   "metadata": {
    "id": "CLiE-E-C-DVL"
   },
   "source": [
    "ConfusionMatrixDisplay(cm).plot() is used to visualize the confusion matrix generated from a decision tree model.\n",
    "\n",
    "The resulting plot will display the confusion matrix, usually as a grid or heatmap, where each cell represents the count or proportion of observations falling into different categories based on their true and predicted labels. This visualization helps in understanding the performance of the decision tree model by visually inspecting the distribution of true positives, true negatives, false positives, and false negatives.\n",
    "\n",
    "By examining the plot, you can gain insights into how well the decision tree model is classifying the data and identify any patterns or issues such as imbalanced classes or misclassifications that may require further investigation or model improvements."
   ]
  },
  {
   "cell_type": "markdown",
   "metadata": {
    "id": "lWsslRz-IIl1"
   },
   "source": [
    "# Let's try the model with an example"
   ]
  },
  {
   "cell_type": "code",
   "execution_count": 55,
   "metadata": {
    "colab": {
     "base_uri": "https://localhost:8080/"
    },
    "id": "J18kb1dxAi11",
    "outputId": "ab925cde-6db7-4a2a-a474-61d1938792aa"
   },
   "outputs": [
    {
     "data": {
      "text/plain": [
       "array(['Soyabeans'], dtype=object)"
      ]
     },
     "execution_count": 55,
     "metadata": {},
     "output_type": "execute_result"
    }
   ],
   "source": [
    "dtc.predict(pd.DataFrame([[50,60,80,23,12.2,5.6,205.12]],columns=['N','P', 'K' ,'temperature' ,'humidity','ph','rainfall']))"
   ]
  },
  {
   "cell_type": "markdown",
   "metadata": {
    "id": "NHKzXg4OIdwS"
   },
   "source": [
    "This creates a pandas DataFrame with a single row of input data.The predict() method uses the trained decision tree model to predict the target variable for the new input data. The result of the predict() method will be the predicted output or target variable based on the provided input features. It Works!"
   ]
  },
  {
   "cell_type": "markdown",
   "metadata": {
    "id": "0LeYgzkqI-9L"
   },
   "source": [
    "# Store the training model to using later and avoid starting from scratch\n",
    "\n",
    "A. Import module pickle"
   ]
  },
  {
   "cell_type": "code",
   "execution_count": 56,
   "metadata": {
    "id": "ReUzVUpaJY3F"
   },
   "outputs": [],
   "source": [
    "import pickle as pkl"
   ]
  },
  {
   "cell_type": "markdown",
   "metadata": {
    "id": "iFNz4kgqJbAT"
   },
   "source": [
    "pickle is a module in Python used for object serialization, which allows you to save Python objects to disk and load them back into memory later."
   ]
  },
  {
   "cell_type": "markdown",
   "metadata": {
    "id": "miYmQ-4gJg-R"
   },
   "source": [
    "B. Serialize and save the trained decision tree classifier"
   ]
  },
  {
   "cell_type": "code",
   "execution_count": 57,
   "metadata": {
    "id": "yMxfMeBtJo5V"
   },
   "outputs": [],
   "source": [
    "pkl.dump(dtc, open(\"decision_tree_model.pkl\", \"wb\"))"
   ]
  },
  {
   "cell_type": "markdown",
   "metadata": {
    "id": "0ooQMab6Jp3y"
   },
   "source": [
    "Uses pickle to serialize and save the trained decision tree classifier (dtc) to a file named \"decision_tree_model.pkl\". The file is opened in binary mode (\"wb\"), indicating that it will be written as a binary file.ou can save the trained model and its associated parameters, allowing you to reuse it later without having to retrain the model from scratch. The saved model file can be shared, stored, or loaded into other Python programs or environments."
   ]
  },
  {
   "cell_type": "markdown",
   "metadata": {
    "id": "HNwyYDgYKL7e"
   },
   "source": [
    "C. Loads the saved decision tree model back into memory in an object"
   ]
  },
  {
   "cell_type": "code",
   "execution_count": 58,
   "metadata": {
    "id": "0VTVOtdGKMeZ"
   },
   "outputs": [],
   "source": [
    " model = pkl.load(open(\"decision_tree_model.pkl\", \"rb\"))"
   ]
  },
  {
   "cell_type": "markdown",
   "metadata": {
    "id": "O_lEcT9RKNHx"
   },
   "source": [
    "Loads the saved decision tree model back into memory by using pickle.load(). It opens the \"decision_tree_model.pkl\" file in binary mode (\"rb\") and assigns the loaded model to the model variable. Now you can use the loaded model object to make predictions or perform any other operations that the decision tree classifier supports."
   ]
  },
  {
   "cell_type": "markdown",
   "metadata": {
    "id": "lUscp54LKloN"
   },
   "source": [
    "D. Lets try the saved decision tree model"
   ]
  },
  {
   "cell_type": "code",
   "execution_count": 59,
   "metadata": {
    "colab": {
     "base_uri": "https://localhost:8080/"
    },
    "id": "_hPQwse6KrQo",
    "outputId": "c1648d74-292f-478c-dc24-7cc0fe752d6e"
   },
   "outputs": [
    {
     "data": {
      "text/plain": [
       "array(['banana'], dtype=object)"
      ]
     },
     "execution_count": 59,
     "metadata": {},
     "output_type": "execute_result"
    }
   ],
   "source": [
    "model.predict(pd.DataFrame([[90,90,29,83,132,6.8,255.12]],columns=['N','P', 'K' ,'temperature' ,'humidity','ph','rainfall']))"
   ]
  }
 ],
 "metadata": {
  "colab": {
   "provenance": []
  },
  "kernelspec": {
   "display_name": "Python 3 (ipykernel)",
   "language": "python",
   "name": "python3"
  },
  "language_info": {
   "codemirror_mode": {
    "name": "ipython",
    "version": 3
   },
   "file_extension": ".py",
   "mimetype": "text/x-python",
   "name": "python",
   "nbconvert_exporter": "python",
   "pygments_lexer": "ipython3",
   "version": "3.11.4"
  }
 },
 "nbformat": 4,
 "nbformat_minor": 1
}
